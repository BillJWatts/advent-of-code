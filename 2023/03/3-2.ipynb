{
 "cells": [
  {
   "cell_type": "markdown",
   "metadata": {},
   "source": [
    "# Day 3\n",
    "\n",
    "## Part 2"
   ]
  },
  {
   "cell_type": "code",
   "execution_count": 2,
   "metadata": {},
   "outputs": [],
   "source": [
    "from string import digits\n",
    "\n",
    "BORDER_VECTORS = [\n",
    "    (0,1),\n",
    "    (1,1),\n",
    "    (1,0),\n",
    "    (1,-1),\n",
    "    (0,-1),\n",
    "    (-1,-1),\n",
    "    (-1,0),\n",
    "    (-1,1),\n",
    "    ]\n",
    "\n",
    "def get_gear_ratio(x, y, grid):\n",
    "    border_coords = [(x+dx, y+dy) for dx, dy in BORDER_VECTORS]\n",
    "    numbers = set()\n",
    "    for dx, dy in border_coords:\n",
    "        try:\n",
    "            border_val = grid[dy][dx]\n",
    "        except:\n",
    "            continue\n",
    "        if border_val in digits:\n",
    "            number = [border_val]\n",
    "            if grid[dy][dx+1] in digits:\n",
    "                number.append(grid[dy][dx+1])\n",
    "                if grid[dy][dx+2] in digits:\n",
    "                    number.append(grid[dy][dx+2])\n",
    "            if grid[dy][dx-1] in digits:\n",
    "                number.insert(0, grid[dy][dx-1])\n",
    "                if grid[dy][dx-2] in digits:\n",
    "                    number.insert(0, grid[dy][dx-2])\n",
    "            numbers.add(\"\".join(number))\n",
    "    gear_ratio = 1\n",
    "    \n",
    "    if len(numbers) < 2:\n",
    "        return None\n",
    "    \n",
    "    for number in numbers:\n",
    "        gear_ratio *= int(number)\n",
    "    \n",
    "    return gear_ratio   "
   ]
  },
  {
   "cell_type": "code",
   "execution_count": 3,
   "metadata": {},
   "outputs": [
    {
     "name": "stdout",
     "output_type": "stream",
     "text": [
      "Sum of gear ratios: 87449461\n"
     ]
    }
   ],
   "source": [
    "with open(\"input.txt\") as f:\n",
    "    x = [line.replace(\"\\n\", \"\") for line in f.readlines()]\n",
    "\n",
    "grid = []\n",
    "for line in x:\n",
    "    grid.append([char for char in line])\n",
    "\n",
    "gear_ratios = []\n",
    "for y, line in enumerate(grid):\n",
    "    for x, char in enumerate(line):\n",
    "        if char == \"*\":\n",
    "            gear_ratio = get_gear_ratio(x, y, grid)\n",
    "            if gear_ratio:\n",
    "                gear_ratios.append(gear_ratio)\n",
    "sum_of_gear_ratios = sum(gear_ratios)\n",
    "\n",
    "print(f\"Sum of gear ratios: {sum_of_gear_ratios}\")"
   ]
  }
 ],
 "metadata": {
  "kernelspec": {
   "display_name": "venv",
   "language": "python",
   "name": "python3"
  },
  "language_info": {
   "codemirror_mode": {
    "name": "ipython",
    "version": 3
   },
   "file_extension": ".py",
   "mimetype": "text/x-python",
   "name": "python",
   "nbconvert_exporter": "python",
   "pygments_lexer": "ipython3",
   "version": "3.10.12"
  }
 },
 "nbformat": 4,
 "nbformat_minor": 2
}
