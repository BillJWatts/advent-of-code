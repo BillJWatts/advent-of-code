{
 "cells": [
  {
   "cell_type": "markdown",
   "metadata": {},
   "source": [
    "# Day 3\n",
    "\n",
    "## Part 1"
   ]
  },
  {
   "cell_type": "code",
   "execution_count": 1,
   "metadata": {},
   "outputs": [],
   "source": [
    "from string import digits\n",
    "\n",
    "BORDER_VECTORS = [\n",
    "    (0,1),\n",
    "    (1,1),\n",
    "    (1,0),\n",
    "    (1,-1),\n",
    "    (0,-1),\n",
    "    (-1,-1),\n",
    "    (-1,0),\n",
    "    (-1,1),\n",
    "    ]\n",
    "\n",
    "def get_surrounding_numbers(x, y, grid):\n",
    "    border_coords = [(x+dx, y+dy) for dx, dy in BORDER_VECTORS]\n",
    "    numbers = set()\n",
    "    for dx, dy in border_coords:\n",
    "        try:\n",
    "            border_val = grid[dy][dx]\n",
    "        except:\n",
    "            continue\n",
    "        if border_val in digits:\n",
    "            number = [border_val]\n",
    "            if grid[dy][dx+1] in digits:\n",
    "                number.append(grid[dy][dx+1])\n",
    "                if grid[dy][dx+2] in digits:\n",
    "                    number.append(grid[dy][dx+2])\n",
    "            if grid[dy][dx-1] in digits:\n",
    "                number.insert(0, grid[dy][dx-1])\n",
    "                if grid[dy][dx-2] in digits:\n",
    "                    number.insert(0, grid[dy][dx-2])\n",
    "            numbers.add(\"\".join(number))\n",
    "    return list(numbers)    "
   ]
  },
  {
   "cell_type": "code",
   "execution_count": 2,
   "metadata": {},
   "outputs": [
    {
     "name": "stdout",
     "output_type": "stream",
     "text": [
      "Sum of part numbers: 546312\n"
     ]
    }
   ],
   "source": [
    "from string import punctuation\n",
    "\n",
    "SYMBOLS = punctuation.replace(\".\",\"\")\n",
    "\n",
    "with open(\"input.txt\") as f:\n",
    "    x = [line.replace(\"\\n\", \"\") for line in f.readlines()]\n",
    "\n",
    "grid = []\n",
    "for line in x:\n",
    "    grid.append([char for char in line])\n",
    "\n",
    "part_numbers = []\n",
    "for y, line in enumerate(grid):\n",
    "    for x, char in enumerate(line):\n",
    "        if char in SYMBOLS:\n",
    "            numbers = get_surrounding_numbers(x, y, grid)\n",
    "            part_numbers.extend(numbers)\n",
    "sum_of_parts = sum([int(num) for num in part_numbers])\n",
    "\n",
    "print(f\"Sum of part numbers: {sum_of_parts}\")"
   ]
  }
 ],
 "metadata": {
  "kernelspec": {
   "display_name": "venv",
   "language": "python",
   "name": "python3"
  },
  "language_info": {
   "codemirror_mode": {
    "name": "ipython",
    "version": 3
   },
   "file_extension": ".py",
   "mimetype": "text/x-python",
   "name": "python",
   "nbconvert_exporter": "python",
   "pygments_lexer": "ipython3",
   "version": "3.10.12"
  }
 },
 "nbformat": 4,
 "nbformat_minor": 2
}
