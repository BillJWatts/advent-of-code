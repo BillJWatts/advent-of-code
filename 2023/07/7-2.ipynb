{
 "cells": [
  {
   "cell_type": "markdown",
   "metadata": {},
   "source": [
    "# Day 7\n",
    "\n",
    "## Part 2"
   ]
  },
  {
   "cell_type": "code",
   "execution_count": 48,
   "metadata": {},
   "outputs": [
    {
     "name": "stdout",
     "output_type": "stream",
     "text": [
      "Total winnings: 251735672\n"
     ]
    }
   ],
   "source": [
    "from collections import Counter\n",
    "\n",
    "with open(\"input.txt\") as f:\n",
    "    hands = [line.split() for line in f.read().splitlines()]\n",
    "\n",
    "CARD_VALUES = {\n",
    "    \"2\":2,\"3\":3,\"4\":4,\"5\":5,\"6\":6,\"7\":7,\"8\":8,\"9\":9,\"T\":10,\"J\":1,\"Q\":11,\"K\":12,\"A\":13\n",
    "}\n",
    "\n",
    "def card_to_val(card):\n",
    "    return CARD_VALUES[card]\n",
    "\n",
    "def get_hand_type_score(hand):\n",
    "    card_count_dict = Counter([char for char in hand])\n",
    "    card_counts = card_count_dict.values()\n",
    "    \n",
    "    j_count = card_count_dict.get(1,0)\n",
    "\n",
    "    if 5 in card_counts:\n",
    "        return 7 # 5 o kind\n",
    "    elif 4 in card_counts and j_count == 4: \n",
    "        return 7 # 5 o kind\n",
    "    elif 4 in card_counts and j_count == 1: \n",
    "        return 7 # 5 o kind\n",
    "    elif 4 in card_counts: \n",
    "        return 6 # 4 o kind\n",
    "    elif 3 in card_counts and j_count == 2: \n",
    "        return 7 # 5 o kind\n",
    "    elif 3 in card_counts and j_count == 1: \n",
    "        return 6 # 4 o kind\n",
    "    elif 3 in card_counts and 2 in card_counts and j_count == 3: \n",
    "        return 7 # 5 o kind\n",
    "    elif 3 in card_counts and 2 in card_counts: \n",
    "        return 5 # full house\n",
    "    elif 3 in card_counts and j_count == 3: \n",
    "        return 6 # 4 o kind\n",
    "    elif 3 in card_counts: \n",
    "        return 4 # 3 o kind\n",
    "    elif len([c for c in card_counts if c == 2]) == 2 and j_count == 2:\n",
    "        return 6 # 4 o kind\n",
    "    elif len([c for c in card_counts if c == 2]) == 2 and j_count == 1: \n",
    "        return 5 # full house\n",
    "    elif len([c for c in card_counts if c == 2]) == 2:\n",
    "        return 3 # 2 pair\n",
    "    elif 2 in card_counts and j_count == 2: \n",
    "        return 4 # 3 o kind\n",
    "    elif 2 in card_counts and j_count == 1: \n",
    "        return 4 # 3 o kind\n",
    "    elif 2 in card_counts: \n",
    "        return 2 # 1 pair\n",
    "    elif 1 in card_counts and j_count == 1: \n",
    "        return 2 # 1 pair\n",
    "    else: \n",
    "        return 1 # high card\n",
    "\n",
    "parsed_hands = []    \n",
    "for hand, bid in hands:\n",
    "    hand = [card_to_val(char) for char in hand]\n",
    "    hand_type_score = get_hand_type_score(hand)\n",
    "    hand.insert(0, hand_type_score)\n",
    "    b13_value = 0\n",
    "    for i, card_val in enumerate(hand):\n",
    "        b13_value += card_val*(13**(5-i))\n",
    "        \n",
    "    parsed_hands.append((hand, bid, b13_value))\n",
    "\n",
    "parsed_hands.sort(key= lambda x: x[2])\n",
    "\n",
    "\n",
    "total_winnings = 0\n",
    "for i, (hand, bid, b13) in enumerate(parsed_hands):\n",
    "    total_winnings += (i+1)*int(bid)\n",
    "    \n",
    "print(\"Total winnings:\", total_winnings)\n"
   ]
  }
 ],
 "metadata": {
  "kernelspec": {
   "display_name": "venv",
   "language": "python",
   "name": "python3"
  },
  "language_info": {
   "codemirror_mode": {
    "name": "ipython",
    "version": 3
   },
   "file_extension": ".py",
   "mimetype": "text/x-python",
   "name": "python",
   "nbconvert_exporter": "python",
   "pygments_lexer": "ipython3",
   "version": "3.10.12"
  }
 },
 "nbformat": 4,
 "nbformat_minor": 2
}
