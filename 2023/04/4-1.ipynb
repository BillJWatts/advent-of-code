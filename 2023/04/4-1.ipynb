{
 "cells": [
  {
   "cell_type": "markdown",
   "metadata": {},
   "source": [
    "# Day 4\n",
    "\n",
    "## Part 1"
   ]
  },
  {
   "cell_type": "code",
   "execution_count": 1,
   "metadata": {},
   "outputs": [
    {
     "name": "stdout",
     "output_type": "stream",
     "text": [
      "Sum of scores: 17803\n"
     ]
    }
   ],
   "source": [
    "with open(\"input.txt\") as f:\n",
    "    card_lines = f.read().splitlines()\n",
    "    \n",
    "score_sum = 0\n",
    "for card_line in card_lines:\n",
    "    card_string, values_string = card_line.split(\":\")\n",
    "    card_id = card_string.split(\" \")[-1]\n",
    "    winning_numbers, scratch_numbers = values_string.split(\"|\")\n",
    "    winning_numbers = set([num for num in winning_numbers.split(\" \") if num])\n",
    "    scratch_numbers = set([num for num in scratch_numbers.split(\" \") if num])\n",
    "    number_of_matching = len(list(winning_numbers & scratch_numbers))\n",
    "    if number_of_matching:\n",
    "        score_sum += 2**(number_of_matching-1)\n",
    "    \n",
    "print(f\"Sum of scores: {score_sum}\")\n",
    "    \n",
    "    "
   ]
  }
 ],
 "metadata": {
  "kernelspec": {
   "display_name": "venv",
   "language": "python",
   "name": "python3"
  },
  "language_info": {
   "codemirror_mode": {
    "name": "ipython",
    "version": 3
   },
   "file_extension": ".py",
   "mimetype": "text/x-python",
   "name": "python",
   "nbconvert_exporter": "python",
   "pygments_lexer": "ipython3",
   "version": "3.10.12"
  }
 },
 "nbformat": 4,
 "nbformat_minor": 2
}
