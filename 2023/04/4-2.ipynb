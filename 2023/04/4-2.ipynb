{
 "cells": [
  {
   "cell_type": "markdown",
   "metadata": {},
   "source": [
    "# Day 4\n",
    "\n",
    "## Part 2"
   ]
  },
  {
   "cell_type": "code",
   "execution_count": 117,
   "metadata": {},
   "outputs": [
    {
     "name": "stdout",
     "output_type": "stream",
     "text": [
      "Total number of scratch cards: 5554894\n"
     ]
    }
   ],
   "source": [
    "from dataclasses import dataclass\n",
    "from copy import deepcopy\n",
    "\n",
    "    \n",
    "@dataclass\n",
    "class Card:\n",
    "    card_id: str\n",
    "    winning_numbers: list\n",
    "    scratch_numbers: list\n",
    "    number_of_matching: int\n",
    "    \n",
    "with open(\"input.txt\") as f:\n",
    "    card_lines = f.read().splitlines()       \n",
    "       \n",
    "cards: list[Card] = []\n",
    "for card_line in card_lines:\n",
    "    card_string, values_string = card_line.split(\":\")\n",
    "    card_id = card_string.split(\" \")[-1]\n",
    "    winning_numbers, scratch_numbers = values_string.split(\"|\")\n",
    "    winning_numbers = set([num for num in winning_numbers.split(\" \") if num])\n",
    "    scratch_numbers = set([num for num in scratch_numbers.split(\" \") if num])\n",
    "    number_of_matching = len(list(winning_numbers & scratch_numbers))\n",
    "    cards.append(Card(card_id, winning_numbers, scratch_numbers, number_of_matching))\n",
    "\n",
    "\n",
    "matches = [card.number_of_matching for card in cards]\n",
    "\n",
    "def algo(i, match_num_list):\n",
    "    total = len(match_num_list)\n",
    "    for num in match_num_list:\n",
    "        new_x = matches[i+1:i+num+1]\n",
    "        total+=algo(i+1, new_x)\n",
    "        i+=1\n",
    "    return total\n",
    "        \n",
    "total = algo(0, matches)\n",
    "    \n",
    "print(f\"Total number of scratch cards: {total}\")"
   ]
  }
 ],
 "metadata": {
  "kernelspec": {
   "display_name": "venv",
   "language": "python",
   "name": "python3"
  },
  "language_info": {
   "codemirror_mode": {
    "name": "ipython",
    "version": 3
   },
   "file_extension": ".py",
   "mimetype": "text/x-python",
   "name": "python",
   "nbconvert_exporter": "python",
   "pygments_lexer": "ipython3",
   "version": "3.10.12"
  }
 },
 "nbformat": 4,
 "nbformat_minor": 2
}
