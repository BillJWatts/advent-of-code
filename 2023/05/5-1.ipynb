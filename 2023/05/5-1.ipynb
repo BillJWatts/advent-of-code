{
 "cells": [
  {
   "cell_type": "markdown",
   "metadata": {},
   "source": [
    "# Day 5\n",
    "\n",
    "## Part 1"
   ]
  },
  {
   "cell_type": "code",
   "execution_count": 113,
   "metadata": {},
   "outputs": [
    {
     "name": "stdout",
     "output_type": "stream",
     "text": [
      "Lowest location: 214922730\n"
     ]
    }
   ],
   "source": [
    "class Mapping:\n",
    "    destinations: dict\n",
    "    sources: dict\n",
    "    ranges: dict\n",
    "    def __init__(self, mapping_list) -> None:\n",
    "        self.destinations = {}\n",
    "        self.sources = {}\n",
    "        self.ranges = {}\n",
    "        for i, (dest, src, ran) in enumerate(mapping_list):\n",
    "            self.destinations[i] = int(dest)\n",
    "            self.sources[i] = int(src)\n",
    "            self.ranges[i] = int(ran)\n",
    "            \n",
    "    def get_destination(self, source):\n",
    "        sources = list(self.sources.values())\n",
    "        if source in sources:\n",
    "            source_key = list(self.sources.keys())[sources.index(source)]\n",
    "            return self.destinations[source_key]\n",
    "        \n",
    "        sources.append(source)\n",
    "        sources.sort()\n",
    "        source_index = sources.index(source)\n",
    "        \n",
    "        if source_index == 0:\n",
    "            return source\n",
    "        \n",
    "        target_source = sources[source_index-1]\n",
    "        source_delta = source - target_source\n",
    "        source_key, _ = [(key, value) for key, value in self.sources.items() if target_source == value][0]\n",
    "\n",
    "        if source_delta > self.ranges[source_key]:\n",
    "            return source\n",
    "        return self.destinations[source_key] + source_delta\n",
    "        \n",
    "with open(\"input.txt\") as f:\n",
    "    blocks = f.read().split(\"\\n\\n\")\n",
    "\n",
    "seeds = blocks.pop(0)[7:].split(\" \")\n",
    "seeds = [int(seed) for seed in seeds]\n",
    "\n",
    "mappings: list[Mapping] = []\n",
    "for block in blocks:\n",
    "    block_list = block.splitlines()\n",
    "    map_values = [tuple(val_str.split()) for val_str in block_list[1:]]\n",
    "    mappings.append(Mapping(map_values))\n",
    "\n",
    "locations = []\n",
    "for seed in seeds:\n",
    "    value = seed\n",
    "    for mapping in mappings:\n",
    "        value = mapping.get_destination(value)\n",
    "    locations.append(value)\n",
    "\n",
    "print(f\"Lowest location: {min(locations)}\")\n"
   ]
  }
 ],
 "metadata": {
  "kernelspec": {
   "display_name": "venv",
   "language": "python",
   "name": "python3"
  },
  "language_info": {
   "codemirror_mode": {
    "name": "ipython",
    "version": 3
   },
   "file_extension": ".py",
   "mimetype": "text/x-python",
   "name": "python",
   "nbconvert_exporter": "python",
   "pygments_lexer": "ipython3",
   "version": "3.10.12"
  }
 },
 "nbformat": 4,
 "nbformat_minor": 2
}
