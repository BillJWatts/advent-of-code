{
 "cells": [
  {
   "cell_type": "markdown",
   "metadata": {},
   "source": [
    "# Day 1\n",
    "\n",
    "## Part 1"
   ]
  },
  {
   "cell_type": "code",
   "execution_count": 71,
   "metadata": {},
   "outputs": [
    {
     "name": "stdout",
     "output_type": "stream",
     "text": [
      "Sum of all calibration values: 53194\n"
     ]
    }
   ],
   "source": [
    "from string import digits\n",
    "\n",
    "with open(\"input.txt\") as f:\n",
    "    lines = f.readlines()\n",
    "\n",
    "\n",
    "line_values = []\n",
    "for line in lines:\n",
    "    line_digits = [num for num in line if num in digits]\n",
    "\n",
    "    first_digit = line_digits[0]\n",
    "    last_digit = line_digits[-1]\n",
    "\n",
    "    line_values.append(int(f\"{first_digit}{last_digit}\"))\n",
    "    \n",
    "print(f\"Sum of all calibration values: {sum(line_values)}\")"
   ]
  }
 ],
 "metadata": {
  "kernelspec": {
   "display_name": "venv",
   "language": "python",
   "name": "python3"
  },
  "language_info": {
   "codemirror_mode": {
    "name": "ipython",
    "version": 3
   },
   "file_extension": ".py",
   "mimetype": "text/x-python",
   "name": "python",
   "nbconvert_exporter": "python",
   "pygments_lexer": "ipython3",
   "version": "3.10.12"
  }
 },
 "nbformat": 4,
 "nbformat_minor": 2
}
