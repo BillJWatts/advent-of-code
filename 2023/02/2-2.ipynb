{
 "cells": [
  {
   "cell_type": "markdown",
   "metadata": {},
   "source": [
    "# Day 2\n",
    "\n",
    "## Part 2"
   ]
  },
  {
   "cell_type": "code",
   "execution_count": 3,
   "metadata": {},
   "outputs": [
    {
     "name": "stdout",
     "output_type": "stream",
     "text": [
      "Sum of powers of minimum dice: 69629\n"
     ]
    }
   ],
   "source": [
    "from dataclasses import dataclass\n",
    "\n",
    "# Input parse\n",
    "\n",
    "@dataclass\n",
    "class Game:\n",
    "    game_id: int\n",
    "    blues: list\n",
    "    greens: list\n",
    "    reds: list\n",
    "\n",
    "def parse_game_line(game_line: str) -> Game:\n",
    "    game_string, sets_string = game_line.split(\":\")\n",
    "    sets_string = sets_string.replace(\"\\n\", \"\")\n",
    "    game_id = game_string.split(\" \")[-1]\n",
    "    sets = sets_string.split(\";\")\n",
    "    sets = [s.replace(\",\", \"\").split(\" \") for s in sets]\n",
    "    blues = [int(s[s.index(\"blue\")-1]) for s in sets if \"blue\" in s]\n",
    "    greens = [int(s[s.index(\"green\")-1]) for s in sets if \"green\" in s]\n",
    "    reds = [int(s[s.index(\"red\")-1]) for s in sets if \"red\" in s]\n",
    "\n",
    "    return Game(int(game_id), blues, greens, reds) \n",
    "\n",
    "with open(\"input.txt\") as f:\n",
    "    games = [parse_game_line(line) for line in f.readlines()]       \n",
    "    \n",
    "    \n",
    "powers_of_minimums = []\n",
    "for game in games:\n",
    "    max_blue = max(game.blues)\n",
    "    max_green = max(game.greens)\n",
    "    max_red = max(game.reds)\n",
    "    powers_of_minimums.append(max_blue * max_green * max_red)\n",
    "    \n",
    "print(f\"Sum of powers of minimum dice: {sum(powers_of_minimums)}\")"
   ]
  }
 ],
 "metadata": {
  "kernelspec": {
   "display_name": "venv",
   "language": "python",
   "name": "python3"
  },
  "language_info": {
   "codemirror_mode": {
    "name": "ipython",
    "version": 3
   },
   "file_extension": ".py",
   "mimetype": "text/x-python",
   "name": "python",
   "nbconvert_exporter": "python",
   "pygments_lexer": "ipython3",
   "version": "3.10.12"
  }
 },
 "nbformat": 4,
 "nbformat_minor": 2
}
