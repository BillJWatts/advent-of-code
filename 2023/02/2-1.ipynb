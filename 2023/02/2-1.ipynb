{
 "cells": [
  {
   "cell_type": "markdown",
   "metadata": {},
   "source": [
    "# Day 2\n",
    "\n",
    "## Part 1"
   ]
  },
  {
   "cell_type": "code",
   "execution_count": 65,
   "metadata": {},
   "outputs": [
    {
     "name": "stdout",
     "output_type": "stream",
     "text": [
      "Sum of possible game ids: 2632\n"
     ]
    }
   ],
   "source": [
    "from dataclasses import dataclass\n",
    "\n",
    "# Input parse\n",
    "\n",
    "@dataclass\n",
    "class Game:\n",
    "    game_id: int\n",
    "    blues: list\n",
    "    greens: list\n",
    "    reds: list\n",
    "\n",
    "def parse_game_line(game_line: str) -> Game:\n",
    "    game_string, sets_string = game_line.split(\":\")\n",
    "    sets_string = sets_string.replace(\"\\n\", \"\")\n",
    "    game_id = game_string.split(\" \")[-1]\n",
    "    sets = sets_string.split(\";\")\n",
    "    sets = [s.replace(\",\", \"\").split(\" \") for s in sets]\n",
    "    blues = [int(s[s.index(\"blue\")-1]) for s in sets if \"blue\" in s]\n",
    "    greens = [int(s[s.index(\"green\")-1]) for s in sets if \"green\" in s]\n",
    "    reds = [int(s[s.index(\"red\")-1]) for s in sets if \"red\" in s]\n",
    "\n",
    "    return Game(int(game_id), blues, greens, reds) \n",
    "\n",
    "with open(\"input.txt\") as f:\n",
    "    games = [parse_game_line(line) for line in f.readlines()]       \n",
    "    \n",
    "\n",
    "MAX_BLUE = 14\n",
    "MAX_GREEN = 13\n",
    "MAX_RED = 12\n",
    "    \n",
    "valid_game_ids = []\n",
    "for game in games:\n",
    "    if game.blues and max(game.blues) > MAX_BLUE:\n",
    "        continue\n",
    "    \n",
    "    if game.greens and max(game.greens) > MAX_GREEN:\n",
    "        continue\n",
    "    \n",
    "    if game.reds and max(game.reds) > MAX_RED:\n",
    "        continue\n",
    "    \n",
    "    valid_game_ids.append(game.game_id)\n",
    "print(f\"Sum of possible game ids: {sum(valid_game_ids)}\")"
   ]
  }
 ],
 "metadata": {
  "kernelspec": {
   "display_name": "venv",
   "language": "python",
   "name": "python3"
  },
  "language_info": {
   "codemirror_mode": {
    "name": "ipython",
    "version": 3
   },
   "file_extension": ".py",
   "mimetype": "text/x-python",
   "name": "python",
   "nbconvert_exporter": "python",
   "pygments_lexer": "ipython3",
   "version": "3.10.12"
  }
 },
 "nbformat": 4,
 "nbformat_minor": 2
}
