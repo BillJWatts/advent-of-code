{
 "cells": [
  {
   "cell_type": "markdown",
   "metadata": {},
   "source": [
    "# Day 6\n",
    "\n",
    "## Part 1"
   ]
  },
  {
   "cell_type": "code",
   "execution_count": 52,
   "metadata": {},
   "outputs": [
    {
     "name": "stdout",
     "output_type": "stream",
     "text": [
      "Total ways to win: 840336\n"
     ]
    }
   ],
   "source": [
    "import math\n",
    "\n",
    "with open(\"input.txt\") as f:\n",
    "    lines = [line.split() for line in f.read().splitlines()]\n",
    "    \n",
    "races = []\n",
    "\n",
    "for i in range(len(lines[0])):\n",
    "    if i == 0:\n",
    "        continue\n",
    "    times = lines[0]\n",
    "    distances = lines[1]\n",
    "    \n",
    "    races.append((int(times[i]), int(distances[i])))\n",
    "\n",
    "race_method_product = 1\n",
    "\n",
    "for T, D in races:\n",
    "\n",
    "    # Equation =  x*(T-x) - D\n",
    "  \n",
    "    a = -1\n",
    "    b = T\n",
    "    c = -D\n",
    "    d = (b**2) - (4*a*c)\n",
    "    \n",
    "    sol1 = (-b+math.sqrt(d))/(2*a)\n",
    "    sol2 = (-b-math.sqrt(d))/(2*a)\n",
    "    \n",
    "    if sol2.is_integer():\n",
    "        sol2 -= 1\n",
    "        \n",
    "    methods = math.floor(sol2)-math.floor(sol1)\n",
    "\n",
    "    race_method_product *= methods\n",
    "\n",
    "print(\"Total ways to win:\", race_method_product)"
   ]
  }
 ],
 "metadata": {
  "kernelspec": {
   "display_name": "venv",
   "language": "python",
   "name": "python3"
  },
  "language_info": {
   "codemirror_mode": {
    "name": "ipython",
    "version": 3
   },
   "file_extension": ".py",
   "mimetype": "text/x-python",
   "name": "python",
   "nbconvert_exporter": "python",
   "pygments_lexer": "ipython3",
   "version": "3.10.12"
  }
 },
 "nbformat": 4,
 "nbformat_minor": 2
}
