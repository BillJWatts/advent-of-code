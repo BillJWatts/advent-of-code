{
 "cells": [
  {
   "cell_type": "markdown",
   "metadata": {},
   "source": [
    "# Day 1\n",
    "\n",
    "## Part 2"
   ]
  },
  {
   "cell_type": "code",
   "execution_count": 1,
   "metadata": {},
   "outputs": [
    {
     "name": "stdout",
     "output_type": "stream",
     "text": [
      "Sum of all calibration values: 54249\n"
     ]
    }
   ],
   "source": [
    "from string import digits\n",
    "\n",
    "def rreplace(s, old, new, occurrence):\n",
    "    li = s.rsplit(old, occurrence)\n",
    "    return new.join(li)\n",
    "\n",
    "def string_insert(s, insert, index):\n",
    "    return s[:index] + insert + s[index:]\n",
    "\n",
    "with open(\"input.txt\") as f:\n",
    "    lines = f.readlines()\n",
    "\n",
    "word2nums = {\n",
    "    \"one\":\"1\",\n",
    "    \"two\":\"2\",\n",
    "    \"three\":\"3\",\n",
    "    \"four\":\"4\",\n",
    "    \"five\":\"5\",\n",
    "    \"six\":\"6\",\n",
    "    \"seven\":\"7\",\n",
    "    \"eight\":\"8\",\n",
    "    \"nine\":\"9\",\n",
    "    }\n",
    "\n",
    "line = lines[4]\n",
    "\n",
    "def replace_fl_word_nums(line) -> str:\n",
    "    lowest_positions = []\n",
    "    highest_positions = []\n",
    "    for word_num in word2nums.keys():\n",
    "        low = line.find(word_num)\n",
    "        if low >= 0:\n",
    "            lowest_positions.append((low, word_num))\n",
    "        \n",
    "\n",
    "    if lowest_positions:\n",
    "        first_word_num = min(lowest_positions, key=lambda pos: pos[0])\n",
    "        # So hacky\n",
    "        line = string_insert(line, word2nums[first_word_num[1]], first_word_num[0])\n",
    "    \n",
    "    for word_num in word2nums.keys():   \n",
    "        high = line.rfind(word_num)    \n",
    "        if high >= 0:\n",
    "            highest_positions.append((high, word_num))\n",
    "        \n",
    "    if highest_positions:\n",
    "        last_word_num = max(highest_positions, key=lambda pos: pos[0])\n",
    "        if first_word_num != last_word_num:\n",
    "            line = string_insert(line, word2nums[last_word_num[1]], last_word_num[0])\n",
    "    \n",
    "    return line\n",
    "\n",
    "line_values = []\n",
    "for line in lines:\n",
    "    line = replace_fl_word_nums(line)\n",
    "    line_digits = [num for num in line if num in digits]\n",
    "\n",
    "    first_digit = line_digits[0]\n",
    "    last_digit = line_digits[-1]\n",
    "    #print(first_digit, last_digit, \"\\n\")\n",
    "\n",
    "    line_values.append(int(f\"{first_digit}{last_digit}\"))\n",
    "    \n",
    "\n",
    "print(f\"Sum of all calibration values: {sum(line_values)}\")"
   ]
  }
 ],
 "metadata": {
  "kernelspec": {
   "display_name": "venv",
   "language": "python",
   "name": "python3"
  },
  "language_info": {
   "codemirror_mode": {
    "name": "ipython",
    "version": 3
   },
   "file_extension": ".py",
   "mimetype": "text/x-python",
   "name": "python",
   "nbconvert_exporter": "python",
   "pygments_lexer": "ipython3",
   "version": "3.10.12"
  }
 },
 "nbformat": 4,
 "nbformat_minor": 2
}
