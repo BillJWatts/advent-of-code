{
 "cells": [
  {
   "cell_type": "markdown",
   "metadata": {},
   "source": [
    "# Day 11\n",
    "\n",
    "### Part 2"
   ]
  },
  {
   "cell_type": "code",
   "execution_count": 2,
   "metadata": {},
   "outputs": [
    {
     "name": "stdout",
     "output_type": "stream",
     "text": [
      "Number of stones: 232454623677743\n"
     ]
    }
   ],
   "source": [
    "from functools import cache\n",
    "from collections import defaultdict\n",
    "\n",
    "with open(\"input.txt\") as f:\n",
    "    values = f.read().split()\n",
    "    \n",
    "stones = defaultdict(int)\n",
    "for stone in values:\n",
    "    stones[stone] += 1\n",
    "    \n",
    "@cache\n",
    "def get_new_stones(stone):\n",
    "    new_stones = []\n",
    "    \n",
    "    if stone == \"0\":\n",
    "        new_stones.append(\"1\")\n",
    "    elif not len(stone)%2:\n",
    "        mid_point = len(stone)//2\n",
    "        new_stones.append(stone[:mid_point])\n",
    "        new_stones.append(str(int(stone[mid_point:])))\n",
    "    else:\n",
    "        new_stones.append(str(int(stone)*2024))\n",
    "        \n",
    "    return new_stones\n",
    "    \n",
    "i = 0\n",
    "while i < 75:\n",
    "    new_stones = defaultdict(int)\n",
    "    for stone, count in stones.items():\n",
    "        for new_stone in get_new_stones(stone):\n",
    "            new_stones[new_stone] += count\n",
    "    stones = new_stones\n",
    "    i += 1\n",
    "        \n",
    "print(\"Number of stones:\", sum(stones.values()))"
   ]
  }
 ],
 "metadata": {
  "kernelspec": {
   "display_name": ".venv",
   "language": "python",
   "name": "python3"
  },
  "language_info": {
   "codemirror_mode": {
    "name": "ipython",
    "version": 3
   },
   "file_extension": ".py",
   "mimetype": "text/x-python",
   "name": "python",
   "nbconvert_exporter": "python",
   "pygments_lexer": "ipython3",
   "version": "3.13.0"
  }
 },
 "nbformat": 4,
 "nbformat_minor": 2
}
