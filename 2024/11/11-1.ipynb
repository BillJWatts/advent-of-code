{
 "cells": [
  {
   "cell_type": "markdown",
   "metadata": {},
   "source": [
    "# Day 11\n",
    "\n",
    "### Part 1"
   ]
  },
  {
   "cell_type": "code",
   "execution_count": 1,
   "metadata": {},
   "outputs": [
    {
     "name": "stdout",
     "output_type": "stream",
     "text": [
      "Number of stones: 194482\n"
     ]
    }
   ],
   "source": [
    "with open(\"input.txt\") as f:\n",
    "    stones = f.read().split()\n",
    "\n",
    "i = 0\n",
    "while i < 25:\n",
    "    new_stones = []\n",
    "    for stone in stones:\n",
    "        if stone == \"0\":\n",
    "            new_stones.append(\"1\")\n",
    "        elif not len(stone)%2:\n",
    "            mid_point = len(stone)//2\n",
    "            new_stones.append(stone[:mid_point])\n",
    "            new_stones.append(str(int(stone[mid_point:])))\n",
    "        else:\n",
    "            new_stones.append(str(int(stone)*2024))\n",
    "    stones = new_stones\n",
    "    i += 1    \n",
    "        \n",
    "print(\"Number of stones:\", len(new_stones))\n"
   ]
  }
 ],
 "metadata": {
  "kernelspec": {
   "display_name": ".venv",
   "language": "python",
   "name": "python3"
  },
  "language_info": {
   "codemirror_mode": {
    "name": "ipython",
    "version": 3
   },
   "file_extension": ".py",
   "mimetype": "text/x-python",
   "name": "python",
   "nbconvert_exporter": "python",
   "pygments_lexer": "ipython3",
   "version": "3.13.0"
  }
 },
 "nbformat": 4,
 "nbformat_minor": 2
}
