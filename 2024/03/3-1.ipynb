{
 "cells": [
  {
   "cell_type": "markdown",
   "metadata": {},
   "source": [
    "# Day 3\n",
    "\n",
    "### Part 1"
   ]
  },
  {
   "cell_type": "code",
   "execution_count": 28,
   "metadata": {},
   "outputs": [
    {
     "name": "stdout",
     "output_type": "stream",
     "text": [
      "Sum of multiplications: 161\n"
     ]
    }
   ],
   "source": [
    "import re\n",
    "\n",
    "with open(\"example_1.txt\") as f:\n",
    "    corrupted_data = f.read()\n",
    "\n",
    "PATTERN = r\"(?<=mul\\()[0-9]*,[0-9]*(?=\\))\"\n",
    "\n",
    "total = 0\n",
    "for match in re.findall(PATTERN, corrupted_data):\n",
    "    x, y = match.split(\",\")\n",
    "    total += int(x) * int(y)\n",
    "    \n",
    "print(\"Sum of multiplications:\", total)"
   ]
  }
 ],
 "metadata": {
  "kernelspec": {
   "display_name": ".venv",
   "language": "python",
   "name": "python3"
  },
  "language_info": {
   "codemirror_mode": {
    "name": "ipython",
    "version": 3
   },
   "file_extension": ".py",
   "mimetype": "text/x-python",
   "name": "python",
   "nbconvert_exporter": "python",
   "pygments_lexer": "ipython3",
   "version": "3.13.0"
  }
 },
 "nbformat": 4,
 "nbformat_minor": 2
}
