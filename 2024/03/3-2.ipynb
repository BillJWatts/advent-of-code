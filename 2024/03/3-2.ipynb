{
 "cells": [
  {
   "cell_type": "markdown",
   "metadata": {},
   "source": [
    "# Day 3\n",
    "\n",
    "### Part 2"
   ]
  },
  {
   "cell_type": "code",
   "execution_count": 5,
   "metadata": {},
   "outputs": [
    {
     "name": "stdout",
     "output_type": "stream",
     "text": [
      "Sum of multiplications: 107862689\n"
     ]
    }
   ],
   "source": [
    "import re\n",
    "\n",
    "with open(\"input.txt\") as f:\n",
    "    corrupted_data = f.read()\n",
    "\n",
    "PATTERN = r\"(?<=mul\\()[0-9]*,[0-9]*(?=\\))|do\\(\\)|don't\\(\\)\"\n",
    "DO = \"do()\"\n",
    "DONT = \"don't()\"\n",
    "\n",
    "total = 0\n",
    "do = True\n",
    "for match in re.findall(PATTERN, corrupted_data):\n",
    "    if match == DO:\n",
    "        do = True\n",
    "        continue\n",
    "    if match == DONT:\n",
    "        do = False\n",
    "        continue\n",
    "    if not do:\n",
    "        continue\n",
    "    x, y = match.split(\",\")\n",
    "    total += int(x) * int(y)\n",
    "    \n",
    "print(\"Sum of multiplications:\", total)"
   ]
  }
 ],
 "metadata": {
  "kernelspec": {
   "display_name": ".venv",
   "language": "python",
   "name": "python3"
  },
  "language_info": {
   "codemirror_mode": {
    "name": "ipython",
    "version": 3
   },
   "file_extension": ".py",
   "mimetype": "text/x-python",
   "name": "python",
   "nbconvert_exporter": "python",
   "pygments_lexer": "ipython3",
   "version": "3.13.0"
  }
 },
 "nbformat": 4,
 "nbformat_minor": 2
}
