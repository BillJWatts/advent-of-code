{
 "cells": [
  {
   "cell_type": "markdown",
   "metadata": {},
   "source": [
    "# Day 20\n",
    "\n",
    "### Part 1"
   ]
  },
  {
   "cell_type": "code",
   "execution_count": 63,
   "metadata": {},
   "outputs": [
    {
     "name": "stdout",
     "output_type": "stream",
     "text": [
      "1286\n"
     ]
    }
   ],
   "source": [
    "with open(\"input.txt\") as f:\n",
    "    grid = [list(line) for line in f.read().splitlines()]\n",
    "    \n",
    "start = [(x, y) for y, row in enumerate(grid) for x, cell in enumerate(row) if cell == \"S\"][0]\n",
    "end = [(x, y) for y, row in enumerate(grid) for x, cell in enumerate(row) if cell == \"E\"][0]\n",
    "\n",
    "def get_neighbors(node):\n",
    "    x, y = node\n",
    "    for dx, dy in [(-1, 0), (1, 0), (0, -1), (0, 1)]:\n",
    "        nx, ny = x + dx, y + dy\n",
    "        if grid[ny][nx] in [\".\", \"E\"]:\n",
    "            return nx, ny\n",
    "\n",
    "steps = 0\n",
    "cx, cy = start\n",
    "costs = {(cx, cy): 0}\n",
    "while True:\n",
    "    nx, ny = get_neighbors((cx, cy))\n",
    "    if grid[ny][nx] == \"E\":\n",
    "        steps += 1\n",
    "        costs[(nx, ny)] = steps\n",
    "        break\n",
    "    grid[cy][cx] = \"X\"\n",
    "    cx, cy = nx, ny\n",
    "    steps += 1\n",
    "    costs[(cx, cy)] = steps\n",
    "\n",
    "\n",
    "def mh_dist(a, b):\n",
    "    return abs(a[0] - b[0]) + abs(a[1] - b[1])\n",
    "\n",
    "cuts = 0\n",
    "for step, cost in costs.items():\n",
    "    for other_step, other_cost in list(costs.items()):\n",
    "        cheat_cost = mh_dist(step, other_step)\n",
    "        cut_value = other_cost - cost - cheat_cost\n",
    "        if cheat_cost > 2:\n",
    "            continue\n",
    "        if cut_value >= 100:\n",
    "            cuts += 1\n",
    "\n",
    "print(cuts)"
   ]
  }
 ],
 "metadata": {
  "kernelspec": {
   "display_name": ".venv",
   "language": "python",
   "name": "python3"
  },
  "language_info": {
   "codemirror_mode": {
    "name": "ipython",
    "version": 3
   },
   "file_extension": ".py",
   "mimetype": "text/x-python",
   "name": "python",
   "nbconvert_exporter": "python",
   "pygments_lexer": "ipython3",
   "version": "3.13.0"
  }
 },
 "nbformat": 4,
 "nbformat_minor": 2
}
