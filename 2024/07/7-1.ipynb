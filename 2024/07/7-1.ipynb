{
 "cells": [
  {
   "cell_type": "markdown",
   "metadata": {},
   "source": [
    "# Day 7\n",
    "\n",
    "### Part 1"
   ]
  },
  {
   "cell_type": "code",
   "execution_count": null,
   "metadata": {},
   "outputs": [
    {
     "name": "stdout",
     "output_type": "stream",
     "text": [
      "850435817339\n"
     ]
    }
   ],
   "source": [
    "from itertools import product\n",
    "\n",
    "data = []\n",
    "with open(\"input.txt\") as f:\n",
    "    for line in f.read().splitlines():\n",
    "        target_string, numbers_string = line.split(\": \")\n",
    "        data.append((int(target_string), [int(num) for num in numbers_string.split(\" \")]))\n",
    "\n",
    "operators = [\"*\", \"+\"]\n",
    "op = {'*': lambda x, y: x * y,\n",
    "      '+': lambda x, y: x + y}\n",
    "\n",
    "total_calibration = 0\n",
    "\n",
    "for target, numbers in data:\n",
    "    \n",
    "    possible_operations = product(operators, repeat=len(numbers)-1)\n",
    "    target_achieved = False\n",
    "    \n",
    "    for operations in possible_operations:\n",
    "        operations = iter(operations)\n",
    "        current_total = numbers[0]\n",
    "        over_target = False\n",
    "        \n",
    "        for number in numbers[1:]:\n",
    "            operator = next(operations)\n",
    "            current_total = op[operator](current_total, number)\n",
    "            \n",
    "            if current_total > target:\n",
    "                over_target = True\n",
    "                break\n",
    "        \n",
    "        if over_target:\n",
    "            continue\n",
    "        \n",
    "        if current_total == target:\n",
    "            target_achieved = True\n",
    "            break\n",
    "    \n",
    "    if target_achieved:\n",
    "        total_calibration += target\n",
    "        continue\n",
    "\n",
    "print(total_calibration)"
   ]
  }
 ],
 "metadata": {
  "kernelspec": {
   "display_name": ".venv",
   "language": "python",
   "name": "python3"
  },
  "language_info": {
   "codemirror_mode": {
    "name": "ipython",
    "version": 3
   },
   "file_extension": ".py",
   "mimetype": "text/x-python",
   "name": "python",
   "nbconvert_exporter": "python",
   "pygments_lexer": "ipython3",
   "version": "3.13.0"
  }
 },
 "nbformat": 4,
 "nbformat_minor": 2
}
