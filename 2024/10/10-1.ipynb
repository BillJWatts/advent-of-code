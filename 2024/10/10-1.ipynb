{
 "cells": [
  {
   "cell_type": "markdown",
   "metadata": {},
   "source": [
    "# Day 10\n",
    "\n",
    "### Part 1"
   ]
  },
  {
   "cell_type": "code",
   "execution_count": 6,
   "metadata": {},
   "outputs": [
    {
     "name": "stdout",
     "output_type": "stream",
     "text": [
      "Trailhead score: 667\n"
     ]
    }
   ],
   "source": [
    "with open(\"input.txt\") as f:\n",
    "    grid = [[int(num) for num in line] for line in f.read().splitlines()]\n",
    "\n",
    "\n",
    "zero_points = [(y,x) for y, line in enumerate(grid) for x, value in enumerate(line) if value == 0]\n",
    "\n",
    "def trail_search(start_point, count=None):\n",
    "    if not count:\n",
    "        count = set()\n",
    "    y, x = start_point\n",
    "    value = grid[y][x]\n",
    "    if value == 9:\n",
    "        count.add((y,x))\n",
    "        return count\n",
    "    uy = y-1\n",
    "    dy = y+1\n",
    "    lx = x-1\n",
    "    rx = x+1\n",
    "    \n",
    "        \n",
    "    if uy >= 0 and uy < len(grid):\n",
    "        new_value = grid[uy][x]\n",
    "        if new_value == value + 1:\n",
    "            count = trail_search((uy,x), count)\n",
    "            \n",
    "    if dy >= 0 and dy < len(grid):\n",
    "        new_value = grid[dy][x]\n",
    "        if new_value == value + 1:\n",
    "            count = trail_search((dy,x), count)\n",
    "            \n",
    "    if lx >= 0 and lx < len(grid):\n",
    "        new_value = grid[y][lx]\n",
    "        if new_value == value + 1:\n",
    "            count = trail_search((y,lx), count)\n",
    "            \n",
    "    if rx >= 0 and rx < len(grid):\n",
    "        new_value = grid[y][rx]\n",
    "        if new_value == value + 1:\n",
    "            count = trail_search((y,rx), count)\n",
    "    \n",
    "    return count\n",
    "    \n",
    "\n",
    "score_sum = 0\n",
    "for point in zero_points:\n",
    "    score_sum += len(trail_search(point))\n",
    "\n",
    "print(\"Trailhead score:\", score_sum)\n"
   ]
  }
 ],
 "metadata": {
  "kernelspec": {
   "display_name": ".venv",
   "language": "python",
   "name": "python3"
  },
  "language_info": {
   "codemirror_mode": {
    "name": "ipython",
    "version": 3
   },
   "file_extension": ".py",
   "mimetype": "text/x-python",
   "name": "python",
   "nbconvert_exporter": "python",
   "pygments_lexer": "ipython3",
   "version": "3.13.0"
  }
 },
 "nbformat": 4,
 "nbformat_minor": 2
}
