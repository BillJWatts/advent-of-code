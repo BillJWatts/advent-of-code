{
 "cells": [
  {
   "cell_type": "markdown",
   "metadata": {},
   "source": [
    "# Day 9\n",
    "\n",
    "### Part 2"
   ]
  },
  {
   "cell_type": "code",
   "execution_count": 83,
   "metadata": {},
   "outputs": [
    {
     "name": "stdout",
     "output_type": "stream",
     "text": [
      "Filsystem checksum: 6301361958738\n"
     ]
    }
   ],
   "source": [
    "with open(\"input.txt\") as f:\n",
    "    input_list = [int(char) for char in f.read()]\n",
    "\n",
    "\n",
    "disc = []\n",
    "free_spaces = []\n",
    "file_map = {}\n",
    "file_count = 0\n",
    "for i, num in enumerate(input_list):\n",
    "    if not i%2:\n",
    "        disc.extend([file_count] * num)\n",
    "        l = len(disc)-1\n",
    "        file_map[file_count] = [l-i for i in range(num)]\n",
    "        file_count += 1\n",
    "    else:\n",
    "        if num == 0:\n",
    "            continue\n",
    "        disc.extend([\".\"]*num)\n",
    "        l = len(disc)-1\n",
    "        free_spaces.append([l-i for i in range(num)][::-1])\n",
    "\n",
    "\n",
    "for file_id, m_indexes in list(file_map.items())[::-1]:\n",
    "    for t_indexes in free_spaces:\n",
    "        if not t_indexes:\n",
    "            continue\n",
    "        len_m = len(m_indexes)\n",
    "        len_t = len(t_indexes)\n",
    "        if len_m > len_t:\n",
    "            continue\n",
    "        if t_indexes[0] > m_indexes[0]:\n",
    "            break\n",
    "        ti_to_remove = []\n",
    "        for mi, ti in zip(m_indexes, t_indexes):\n",
    "            disc[ti] = disc[mi]\n",
    "            disc[mi] = \".\"\n",
    "            ti_to_remove.append(ti)\n",
    "        for i in range(len(ti_to_remove)):\n",
    "            t_indexes.pop(0)\n",
    "        break\n",
    "\n",
    "checksum = 0\n",
    "\n",
    "for i, char in enumerate(disc):\n",
    "    if char == \".\":\n",
    "        continue\n",
    "    checksum += i * char\n",
    "    \n",
    "print(\"Filsystem checksum:\", checksum)"
   ]
  }
 ],
 "metadata": {
  "kernelspec": {
   "display_name": ".venv",
   "language": "python",
   "name": "python3"
  },
  "language_info": {
   "codemirror_mode": {
    "name": "ipython",
    "version": 3
   },
   "file_extension": ".py",
   "mimetype": "text/x-python",
   "name": "python",
   "nbconvert_exporter": "python",
   "pygments_lexer": "ipython3",
   "version": "3.13.0"
  }
 },
 "nbformat": 4,
 "nbformat_minor": 2
}
