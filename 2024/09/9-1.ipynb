{
 "cells": [
  {
   "cell_type": "markdown",
   "metadata": {},
   "source": [
    "# Day 9\n",
    "\n",
    "### Part 1"
   ]
  },
  {
   "cell_type": "code",
   "execution_count": 74,
   "metadata": {},
   "outputs": [
    {
     "name": "stdout",
     "output_type": "stream",
     "text": [
      "Filsystem checksum: 6279058075753\n"
     ]
    }
   ],
   "source": [
    "with open(\"input.txt\") as f:\n",
    "    input_list = [int(char) for char in f.read()]\n",
    "\n",
    "\n",
    "disc = []\n",
    "file_count = 0\n",
    "for i, num in enumerate(input_list):\n",
    "    if not i%2:\n",
    "        disc.extend([file_count] * num)\n",
    "        file_count += 1\n",
    "    else:\n",
    "        disc.extend([\".\"]*num)\n",
    "\n",
    "new_disc = disc\n",
    "\n",
    "def find_next_end_index(end_index):\n",
    "    for i in range(end_index, 0, -1):\n",
    "        if isinstance(new_disc[i], int):\n",
    "            return i\n",
    "\n",
    "disc = list(disc)\n",
    "new_disc = list(new_disc)\n",
    "end_index = len(disc)-1\n",
    "for i, value in enumerate(disc):   \n",
    "    if i == end_index:\n",
    "        break\n",
    "    if isinstance(value, int):\n",
    "        continue\n",
    "    \n",
    "    new_disc[i] = disc[end_index]\n",
    "    new_disc[end_index] = \".\"\n",
    "    end_index = find_next_end_index(end_index)\n",
    "    if i == end_index:\n",
    "        break\n",
    "\n",
    "checksum = 0\n",
    "\n",
    "for i, char in enumerate(new_disc):\n",
    "    if char == \".\":\n",
    "        break\n",
    "    checksum += i * char\n",
    "    \n",
    "print(\"Filsystem checksum:\", checksum)"
   ]
  }
 ],
 "metadata": {
  "kernelspec": {
   "display_name": ".venv",
   "language": "python",
   "name": "python3"
  },
  "language_info": {
   "codemirror_mode": {
    "name": "ipython",
    "version": 3
   },
   "file_extension": ".py",
   "mimetype": "text/x-python",
   "name": "python",
   "nbconvert_exporter": "python",
   "pygments_lexer": "ipython3",
   "version": "3.13.0"
  }
 },
 "nbformat": 4,
 "nbformat_minor": 2
}
