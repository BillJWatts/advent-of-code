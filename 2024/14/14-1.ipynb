{
 "cells": [
  {
   "cell_type": "markdown",
   "metadata": {},
   "source": [
    "# Day 14\n",
    "\n",
    "### Part 1"
   ]
  },
  {
   "cell_type": "code",
   "execution_count": 74,
   "metadata": {},
   "outputs": [
    {
     "name": "stdout",
     "output_type": "stream",
     "text": [
      "Safety factor: 233709840\n"
     ]
    }
   ],
   "source": [
    "from pprint import pprint\n",
    "EXAMPLE = False\n",
    "file = \"example.txt\" if EXAMPLE else \"input.txt\"\n",
    "\n",
    "X_LEN = 11 if EXAMPLE else 101\n",
    "Y_LEN = 7 if EXAMPLE else 103\n",
    "\n",
    "with open(file) as f:\n",
    "    lines = f.read().splitlines()\n",
    "    \n",
    "class Robot:\n",
    "    position: tuple[int, int]\n",
    "    velocity: tuple[int, int]\n",
    "    \n",
    "    def __init__(self, position, velocity):\n",
    "        self.position = position\n",
    "        self.velocity = velocity\n",
    "    \n",
    "    def update_position(self, time):\n",
    "        vx, vy = self.velocity\n",
    "        px, py = self.position\n",
    "        dx, dy = (vx*time, vy*time)\n",
    "        \n",
    "        self.position = ((px+dx)%X_LEN, (py+dy)%Y_LEN)\n",
    "    \n",
    "robots = []\n",
    "    \n",
    "for line in lines:\n",
    "    p_string, v_string = line.split(\" \")\n",
    "    px, py = p_string.split(\"=\")[-1].split(\",\")\n",
    "    vx, vy = v_string.split(\"=\")[-1].split(\",\")\n",
    "    robots.append(Robot((int(px), int(py)), (int(vx), int(vy))))\n",
    "\n",
    "for robot in robots:\n",
    "    robot.update_position(100)\n",
    "\n",
    "x_mid = X_LEN//2\n",
    "y_mid = Y_LEN//2\n",
    "\n",
    "tl, tr, bl, br = 0,0,0,0\n",
    "# grid = [[\".\" for _ in range(X_LEN)] for _ in range(Y_LEN)]\n",
    "\n",
    "for robot in robots:\n",
    "    x, y = robot.position\n",
    "    \n",
    "    if x<x_mid and y<y_mid:\n",
    "        tl+=1\n",
    "    if x>x_mid and y<y_mid:\n",
    "        tr+=1\n",
    "    if x<x_mid and y>y_mid:\n",
    "        bl+=1\n",
    "    if x>x_mid and y>y_mid:\n",
    "        br+=1\n",
    "        \n",
    "print(\"Safety factor:\", tl*tr*bl*br)"
   ]
  }
 ],
 "metadata": {
  "kernelspec": {
   "display_name": ".venv",
   "language": "python",
   "name": "python3"
  },
  "language_info": {
   "codemirror_mode": {
    "name": "ipython",
    "version": 3
   },
   "file_extension": ".py",
   "mimetype": "text/x-python",
   "name": "python",
   "nbconvert_exporter": "python",
   "pygments_lexer": "ipython3",
   "version": "3.13.0"
  }
 },
 "nbformat": 4,
 "nbformat_minor": 2
}
