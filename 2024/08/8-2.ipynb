{
 "cells": [
  {
   "cell_type": "markdown",
   "metadata": {},
   "source": [
    "# Day 8 \n",
    "\n",
    "### Part 2"
   ]
  },
  {
   "cell_type": "code",
   "execution_count": 14,
   "metadata": {},
   "outputs": [
    {
     "name": "stdout",
     "output_type": "stream",
     "text": [
      "Unique locations with antinodes: 1259\n"
     ]
    }
   ],
   "source": [
    "from itertools import combinations\n",
    "\n",
    "with open(\"input.txt\") as f:\n",
    "    grid = [list(line) for line in f.read().splitlines()]\n",
    "    \n",
    "antennas = {}\n",
    "\n",
    "for y, row in enumerate(grid):\n",
    "    for x, loc in enumerate(row):\n",
    "        if loc == \".\":\n",
    "            continue\n",
    "        \n",
    "        if loc not in antennas:\n",
    "            antennas[loc] = [(x,y)]\n",
    "        else:\n",
    "            antennas[loc].append((x,y))\n",
    "            \n",
    "def add_vector(v1, v2):\n",
    "    return (v1[0]+v2[0], v1[1]+v2[1])\n",
    "\n",
    "def sub_vector(v1, v2):\n",
    "    return (v1[0]-v2[0], v1[1]-v2[1])\n",
    "\n",
    "def position_in_grid(pos):\n",
    "    if pos[0] < 0 or pos[1] < 0:\n",
    "        return False\n",
    "    try:\n",
    "        grid[pos[0]][pos[1]]\n",
    "    except IndexError:\n",
    "        return False\n",
    "    return True\n",
    "    \n",
    "\n",
    "antinodes = set()\n",
    "\n",
    "for antenna, positions in antennas.items():\n",
    "    \n",
    "    for a1, a2 in combinations(positions, 2):\n",
    "        antinodes.add(a1)\n",
    "        antinodes.add(a2)\n",
    "        \n",
    "        dx, dy = sub_vector(a1, a2)\n",
    "        d_mag = (dx**2 + dy**2)**0.5\n",
    "        if dx%d_mag or dy%d_mag:\n",
    "            unit_vector = (dx, dy)\n",
    "        else:\n",
    "            unit_vector = (dx / d_mag, dy / d_mag)\n",
    "        \n",
    "        c1, c2 = a1, a2\n",
    "        while True:\n",
    "            c1 = add_vector(c1, unit_vector)\n",
    "            c2 = sub_vector(c2, unit_vector)\n",
    "            \n",
    "            c1_in_grid = position_in_grid(c1)\n",
    "            c2_in_grid = position_in_grid(c2)\n",
    "            \n",
    "            if c1_in_grid:\n",
    "                antinodes.add(c1)\n",
    "            if c2_in_grid:\n",
    "                antinodes.add(c2)\n",
    "            \n",
    "            if not c1_in_grid and not c2_in_grid:\n",
    "                break\n",
    "    \n",
    "        \n",
    "print(\"Unique locations with antinodes:\", len(antinodes))"
   ]
  }
 ],
 "metadata": {
  "kernelspec": {
   "display_name": ".venv",
   "language": "python",
   "name": "python3"
  },
  "language_info": {
   "codemirror_mode": {
    "name": "ipython",
    "version": 3
   },
   "file_extension": ".py",
   "mimetype": "text/x-python",
   "name": "python",
   "nbconvert_exporter": "python",
   "pygments_lexer": "ipython3",
   "version": "3.13.0"
  }
 },
 "nbformat": 4,
 "nbformat_minor": 2
}
