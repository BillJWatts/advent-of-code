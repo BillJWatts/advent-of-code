{
 "cells": [
  {
   "cell_type": "markdown",
   "metadata": {},
   "source": [
    "# Day 8\n",
    "\n",
    "### Part 1"
   ]
  },
  {
   "cell_type": "code",
   "execution_count": 28,
   "metadata": {},
   "outputs": [
    {
     "name": "stdout",
     "output_type": "stream",
     "text": [
      "Unique locations with antinodes: 351\n"
     ]
    }
   ],
   "source": [
    "from itertools import combinations\n",
    "\n",
    "with open(\"input.txt\") as f:\n",
    "    grid = [list(line) for line in f.read().splitlines()]\n",
    "    \n",
    "antennas = {}\n",
    "\n",
    "for y, row in enumerate(grid):\n",
    "    for x, loc in enumerate(row):\n",
    "        if loc == \".\":\n",
    "            continue\n",
    "        \n",
    "        if loc not in antennas:\n",
    "            antennas[loc] = [(x,y)]\n",
    "        else:\n",
    "            antennas[loc].append((x,y))\n",
    "            \n",
    "def add_vector(v1, v2):\n",
    "    return (v1[0]+v2[0], v1[1]+v2[1])\n",
    "\n",
    "def sub_vector(v1, v2):\n",
    "    return (v1[0]-v2[0], v1[1]-v2[1])\n",
    "\n",
    "antinodes = set()\n",
    "\n",
    "for antenna, positions in antennas.items():\n",
    "    \n",
    "    for a1, a2 in combinations(positions, 2):\n",
    "        distance = sub_vector(a1, a2)\n",
    "        n1 = add_vector(a1, distance)\n",
    "        n2 = sub_vector(a2, distance)\n",
    "        \n",
    "        for node in (n1, n2):\n",
    "            if node[0] < 0 or node[1] < 0:\n",
    "                continue\n",
    "            try:\n",
    "                grid[node[0]][node[1]]\n",
    "            except IndexError:\n",
    "                continue\n",
    "            antinodes.add(node)\n",
    "        \n",
    "print(\"Unique locations with antinodes:\", len(antinodes))"
   ]
  }
 ],
 "metadata": {
  "kernelspec": {
   "display_name": ".venv",
   "language": "python",
   "name": "python3"
  },
  "language_info": {
   "codemirror_mode": {
    "name": "ipython",
    "version": 3
   },
   "file_extension": ".py",
   "mimetype": "text/x-python",
   "name": "python",
   "nbconvert_exporter": "python",
   "pygments_lexer": "ipython3",
   "version": "3.13.0"
  }
 },
 "nbformat": 4,
 "nbformat_minor": 2
}
