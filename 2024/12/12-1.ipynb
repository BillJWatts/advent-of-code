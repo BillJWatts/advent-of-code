{
 "cells": [
  {
   "cell_type": "markdown",
   "metadata": {},
   "source": [
    "# Day 12\n",
    "\n",
    "### Part 1"
   ]
  },
  {
   "cell_type": "code",
   "execution_count": 29,
   "metadata": {},
   "outputs": [
    {
     "name": "stdout",
     "output_type": "stream",
     "text": [
      "Fence price: 1352976\n"
     ]
    }
   ],
   "source": [
    "from collections import deque\n",
    "\n",
    "with open(\"input.txt\") as f:\n",
    "    grid = [list(line) for line in f.read().splitlines()]\n",
    "\n",
    "grid_size = len(grid)\n",
    "\n",
    "def grid_get(coord):\n",
    "    y,x = coord\n",
    "    if y < 0 or x < 0:\n",
    "        return None\n",
    "    if y >= grid_size or x >= grid_size:\n",
    "        return None\n",
    "    \n",
    "    return grid[y][x]\n",
    "\n",
    "def flood_fill(coord):\n",
    "    deq = deque()\n",
    "    \n",
    "    deq.append(coord)\n",
    "    \n",
    "    char = grid_get(coord)\n",
    "    \n",
    "    travelled_nodes = set()\n",
    "    \n",
    "    while deq:\n",
    "        n = deq.popleft()\n",
    "        \n",
    "        n_char = grid_get(n)\n",
    "        \n",
    "        if not n_char:\n",
    "            continue\n",
    "        \n",
    "        if n_char != char:\n",
    "            continue\n",
    "        \n",
    "        if n in travelled_nodes:\n",
    "            continue\n",
    "        \n",
    "        ny, nx = n\n",
    "        nl = (ny, nx-1)\n",
    "        nr = (ny, nx+1)\n",
    "        nu = (ny-1, nx)\n",
    "        nd = (ny+1, nx)\n",
    "        deq.extend([nl,nr,nu,nd])\n",
    "        \n",
    "        travelled_nodes.add(n)\n",
    "        \n",
    "    return list(travelled_nodes)\n",
    "        \n",
    "def border_length(coords):\n",
    "    border_length = 0\n",
    "    for ny,nx in coords:\n",
    "        nl = (ny, nx-1)\n",
    "        nr = (ny, nx+1)\n",
    "        nu = (ny-1, nx)\n",
    "        nd = (ny+1, nx)\n",
    "        border_length += 4- len([coord for coord in coords if coord in [nl, nr, nu, nd]])\n",
    "    return border_length\n",
    "        \n",
    "travelled_nodes = []\n",
    "price = 0\n",
    "\n",
    "for y, row in enumerate(grid):\n",
    "    for x, char in enumerate(row):\n",
    "        if (y,x) in travelled_nodes:\n",
    "            continue\n",
    "        flood_nodes = flood_fill((y,x))\n",
    "        fence_length = border_length(flood_nodes)\n",
    "        price += len(flood_nodes) * fence_length\n",
    "        travelled_nodes.extend(flood_nodes)\n",
    "        \n",
    "print(\"Fence price:\", price)"
   ]
  }
 ],
 "metadata": {
  "kernelspec": {
   "display_name": ".venv",
   "language": "python",
   "name": "python3"
  },
  "language_info": {
   "codemirror_mode": {
    "name": "ipython",
    "version": 3
   },
   "file_extension": ".py",
   "mimetype": "text/x-python",
   "name": "python",
   "nbconvert_exporter": "python",
   "pygments_lexer": "ipython3",
   "version": "3.13.0"
  }
 },
 "nbformat": 4,
 "nbformat_minor": 2
}
