{
 "cells": [
  {
   "cell_type": "markdown",
   "metadata": {},
   "source": [
    "# Day 13\n",
    "\n",
    "### Part 1"
   ]
  },
  {
   "cell_type": "code",
   "execution_count": 74,
   "metadata": {},
   "outputs": [
    {
     "name": "stdout",
     "output_type": "stream",
     "text": [
      "Smallest number of tokens: 37901\n"
     ]
    }
   ],
   "source": [
    "from dataclasses import dataclass\n",
    "\n",
    "@dataclass\n",
    "class Machine:\n",
    "    ax: int\n",
    "    ay: int\n",
    "    bx: int\n",
    "    by: int\n",
    "    px: int\n",
    "    py: int\n",
    "\n",
    "with open(\"input.txt\") as f:\n",
    "    machine_strings = f.read().split(\"\\n\\n\")\n",
    "\n",
    "machines = []\n",
    "\n",
    "for string in machine_strings:\n",
    "    prize_tokens = string.split(\"\\n\")[-1].split(\"=\")\n",
    "    machines.append(Machine(\n",
    "    ax = int(string[12:14]),\n",
    "    ay = int(string[18:20]),\n",
    "    bx = int(string[33:35]),\n",
    "    by = int(string[39:41]),\n",
    "    px = int(prize_tokens[1].split(\", \")[0]),\n",
    "    py = int(prize_tokens[-1]),\n",
    "    ))\n",
    "\n",
    "machine = machines[0]\n",
    "\n",
    "RATIO_LIMIT = 100\n",
    "\n",
    "def find_ratio(machine):\n",
    "    best_ratio = None\n",
    "    for A in range(RATIO_LIMIT):\n",
    "        for B in range(RATIO_LIMIT):\n",
    "            if A == 0 and B == 0:\n",
    "                continue\n",
    "            if machine.px%(machine.ax*A + machine.bx*B) == 0 and machine.py%(machine.ay*A + machine.by*B) == 0:\n",
    "                if not best_ratio:\n",
    "                    best_ratio=(A,B)\n",
    "                if B > best_ratio[1]:\n",
    "                    best_ratio=(A,B)\n",
    "    \n",
    "    if best_ratio:\n",
    "        A, B = best_ratio            \n",
    "        return (A, B, int(machine.px/(machine.ax*A + machine.bx*B)))\n",
    "    return None, None, None\n",
    "\n",
    "tokens = 0\n",
    "\n",
    "for machine in machines:\n",
    "    a, b, mult = find_ratio(machine)\n",
    "    if not a:\n",
    "        continue\n",
    "    tokens += a*mult*3\n",
    "    tokens += b*mult\n",
    "    \n",
    "print(\"Smallest number of tokens:\", tokens)\n",
    "    "
   ]
  }
 ],
 "metadata": {
  "kernelspec": {
   "display_name": ".venv",
   "language": "python",
   "name": "python3"
  },
  "language_info": {
   "codemirror_mode": {
    "name": "ipython",
    "version": 3
   },
   "file_extension": ".py",
   "mimetype": "text/x-python",
   "name": "python",
   "nbconvert_exporter": "python",
   "pygments_lexer": "ipython3",
   "version": "3.13.0"
  }
 },
 "nbformat": 4,
 "nbformat_minor": 2
}
