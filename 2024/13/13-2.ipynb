{
 "cells": [
  {
   "cell_type": "markdown",
   "metadata": {},
   "source": [
    "# Day 13\n",
    "\n",
    "### Part 2"
   ]
  },
  {
   "cell_type": "code",
   "execution_count": 43,
   "metadata": {},
   "outputs": [
    {
     "name": "stdout",
     "output_type": "stream",
     "text": [
      "16800.0 -71400.0\n",
      "Smallest number of tokens: -21000.0\n"
     ]
    }
   ],
   "source": [
    "from dataclasses import dataclass\n",
    "from math import gcd\n",
    "\n",
    "@dataclass\n",
    "class Machine:\n",
    "    ax: int\n",
    "    ay: int\n",
    "    bx: int\n",
    "    by: int\n",
    "    px: int\n",
    "    py: int\n",
    "\n",
    "with open(\"example.txt\") as f:\n",
    "    machine_strings = f.read().split(\"\\n\\n\")\n",
    "\n",
    "machines = []\n",
    "\n",
    "for string in machine_strings:\n",
    "    prize_tokens = string.split(\"\\n\")[-1].split(\"=\")\n",
    "    machines.append(Machine(\n",
    "    ax = int(string[12:14]),\n",
    "    ay = int(string[18:20]),\n",
    "    bx = int(string[33:35]),\n",
    "    by = int(string[39:41]),\n",
    "    px = int(prize_tokens[1].split(\", \")[0]),\n",
    "    py = int(prize_tokens[-1]),\n",
    "    ))\n",
    "\n",
    "machine = machines[0]\n",
    "\n",
    "RATIO_LIMIT = 10000\n",
    "\n",
    "def isolve(a,b,c):\n",
    "    q, r = divmod(a,b)\n",
    "    if r == 0:\n",
    "        return( [0,c/b] )\n",
    "    else:\n",
    "        u, v = isolve( b, r, c )\n",
    "        return( ( v, u - q*v ) )\n",
    "\n",
    "tokens = 0\n",
    "\n",
    "for machine in machines:\n",
    "    a, b = isolve(machine.ax, machine.bx, machine.px)\n",
    "    print(a,b)\n",
    "    if not a:\n",
    "        continue\n",
    "    tokens += a*3\n",
    "    tokens += b\n",
    "    \n",
    "print(\"Smallest number of tokens:\", tokens)\n",
    "    "
   ]
  },
  {
   "cell_type": "code",
   "execution_count": 63,
   "metadata": {},
   "outputs": [
    {
     "name": "stdout",
     "output_type": "stream",
     "text": [
      "Machine(ax=94, ay=34, bx=22, by=67, px=8400, py=5400)\n",
      "2 4 -17\n",
      "(-7.0, 30.0)\n"
     ]
    }
   ],
   "source": [
    "from math import ceil\n",
    "\n",
    "print(machine)\n",
    "\n",
    "def gcdExtended(a, b): \n",
    "    # Base Case \n",
    "    if a == 0 : \n",
    "        return b,0,1\n",
    "             \n",
    "    gcd,x1,y1 = gcdExtended(b%a, a) \n",
    "     \n",
    "    # Update x and y using results of recursive \n",
    "    # call \n",
    "    x = y1 - (b//a) * x1 \n",
    "    y = x1 \n",
    "\n",
    "    return gcd,x,y \n",
    "\n",
    "gcd, x0, y0 = gcdExtended(machine.ax, machine.bx)\n",
    "print(gcd, x0, y0)\n",
    "\n",
    "k = ceil(-gcd * y0 / machine.ax)\n",
    "\n",
    "print((x0-(k*machine.bx/gcd), y0+(k*machine.ax/gcd)))"
   ]
  },
  {
   "cell_type": "code",
   "execution_count": 131,
   "metadata": {},
   "outputs": [
    {
     "name": "stdout",
     "output_type": "stream",
     "text": [
      "(67*t_0 - 180000000229464, 70000000089236 - 26*t_0)\n",
      "(7*t_0 + 3333333337392, -22*t_0 - 10000000012176)\n",
      "[47279430920, 130906489684]\n",
      "[22144243152656, -69120002288720]\n"
     ]
    }
   ],
   "source": [
    "from sympy import *\n",
    "x, y, z = symbols('x y z')\n",
    "[s] = diophantine(x*26 + y*67 - 10000000012748)\n",
    "[s2] = diophantine(x*66 + y*21 - 10000000012176)\n",
    "print(s)\n",
    "print(s2)\n",
    "t_0 = s[1].free_symbols.pop()\n",
    "t0 = 2687272830752\n",
    "sol = [expr.subs({t_0: t0}) for expr in s]\n",
    "sol2 = [expr.subs({t_0: t0}) for expr in s2]\n",
    "print(sol)\n",
    "print(sol2)"
   ]
  }
 ],
 "metadata": {
  "kernelspec": {
   "display_name": ".venv",
   "language": "python",
   "name": "python3"
  },
  "language_info": {
   "codemirror_mode": {
    "name": "ipython",
    "version": 3
   },
   "file_extension": ".py",
   "mimetype": "text/x-python",
   "name": "python",
   "nbconvert_exporter": "python",
   "pygments_lexer": "ipython3",
   "version": "3.13.0"
  }
 },
 "nbformat": 4,
 "nbformat_minor": 2
}
