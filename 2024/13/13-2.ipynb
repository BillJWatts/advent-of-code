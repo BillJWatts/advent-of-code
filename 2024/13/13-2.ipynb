{
 "cells": [
  {
   "cell_type": "markdown",
   "metadata": {},
   "source": [
    "# Day 13\n",
    "\n",
    "### Part 2"
   ]
  },
  {
   "cell_type": "code",
   "execution_count": 13,
   "metadata": {},
   "outputs": [
    {
     "name": "stdout",
     "output_type": "stream",
     "text": [
      "Smallest number of tokens: 0\n"
     ]
    }
   ],
   "source": [
    "from dataclasses import dataclass\n",
    "from math import gcd\n",
    "\n",
    "@dataclass\n",
    "class Machine:\n",
    "    ax: int\n",
    "    ay: int\n",
    "    bx: int\n",
    "    by: int\n",
    "    px: int\n",
    "    py: int\n",
    "\n",
    "with open(\"example.txt\") as f:\n",
    "    machine_strings = f.read().split(\"\\n\\n\")\n",
    "\n",
    "machines: list[Machine] = []\n",
    "\n",
    "for string in machine_strings:\n",
    "    prize_tokens = string.split(\"\\n\")[-1].split(\"=\")\n",
    "    machines.append(Machine(\n",
    "    ax = int(string[12:14]),\n",
    "    ay = int(string[18:20]),\n",
    "    bx = int(string[33:35]),\n",
    "    by = int(string[39:41]),\n",
    "    px = int(prize_tokens[1].split(\", \")[0])+10000000000000,\n",
    "    py = int(prize_tokens[-1])+10000000000000,\n",
    "    ))\n",
    "\n",
    "tokens = 0\n",
    "\n",
    "acc = 0\n",
    "for machine in machines:\n",
    "    D = machine.ax*machine.by - machine.ay*machine.bx\n",
    "    if (D==0):\n",
    "        continue\n",
    "    \n",
    "    A = machine.px*machine.by - machine.py*machine.bx\n",
    "    B = machine.py*machine.ax - machine.px*machine.ay\n",
    "    if (A%D != 0) or (B%D != 0):\n",
    "        continue\n",
    "    \n",
    "    A /= D\n",
    "    B /= D\n",
    "    if (A<0) or (B<0):\n",
    "        continue\n",
    "    acc += 3*A+B\n",
    "\n",
    "print(\"Smallest number of tokens:\", acc)"
   ]
  }
 ],
 "metadata": {
  "kernelspec": {
   "display_name": ".venv",
   "language": "python",
   "name": "python3"
  },
  "language_info": {
   "codemirror_mode": {
    "name": "ipython",
    "version": 3
   },
   "file_extension": ".py",
   "mimetype": "text/x-python",
   "name": "python",
   "nbconvert_exporter": "python",
   "pygments_lexer": "ipython3",
   "version": "3.13.0"
  }
 },
 "nbformat": 4,
 "nbformat_minor": 2
}
