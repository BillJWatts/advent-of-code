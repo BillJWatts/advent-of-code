{
 "cells": [
  {
   "cell_type": "markdown",
   "metadata": {},
   "source": [
    "# Day 17\n",
    "\n",
    "### Part 1"
   ]
  },
  {
   "cell_type": "markdown",
   "metadata": {},
   "source": [
    "## Combos\n",
    "\n",
    "`0` through `3` represent literal values 0 through 3.\n",
    "\n",
    "`4` represents the value of register A.\n",
    "\n",
    "`5` represents the value of register B.\n",
    "\n",
    "`6` represents the value of register C.\n",
    "\n",
    "`7` is reserved and will not appear in valid programs.\n",
    "\n",
    "## Opcodes\n",
    "0 - `adv` - A // 2^combo -> A\n",
    "\n",
    "1 - `bxl` - bitwise XOR B and literal -> B\n",
    "\n",
    "2 - `bst` - combo modulo 8 -> B\n",
    "\n",
    "3 - `jnz` - nothing if A=0, else jump to literal (index)\n",
    "\n",
    "4 - `bxc` - bitwise XOR B and C -> B \n",
    "\n",
    "5 - `out` - combo modulo 8 -> output\n",
    "\n",
    "6 - `bdv` - A // 2^combo -> B\n",
    "\n",
    "7 - `cdv` - A // 2^combo -> C"
   ]
  },
  {
   "cell_type": "code",
   "execution_count": 61,
   "metadata": {},
   "outputs": [
    {
     "name": "stdout",
     "output_type": "stream",
     "text": [
      "The output string is: 7,0,7,3,4,1,3,0,1\n"
     ]
    }
   ],
   "source": [
    "with open(\"input.txt\") as f:\n",
    "    lines = f.read().splitlines()\n",
    "\n",
    "reg_A = int(lines[0].split(\": \")[-1])\n",
    "reg_B = int(lines[1].split(\": \")[-1])\n",
    "reg_C = int(lines[2].split(\": \")[-1])\n",
    "\n",
    "program_string = lines[-1].split(\": \")[-1]\n",
    "program = [int(val) for val in program_string.split(\",\")]\n",
    "combo = {\n",
    "    0: lambda: 0,\n",
    "    1: lambda: 1,\n",
    "    2: lambda: 2,\n",
    "    3: lambda: 3,\n",
    "    4: lambda: reg_A,\n",
    "    5: lambda: reg_B,\n",
    "    6: lambda: reg_C,\n",
    "}\n",
    "\n",
    "opcodes = {\n",
    "    0: lambda opr: (reg_A//(2**combo[opr]()), \"A\"),\n",
    "    1: lambda opr: (reg_B ^ opr, \"B\"),\n",
    "    2: lambda opr: (combo[opr]()%8, \"B\"),\n",
    "    3: lambda opr: (None if reg_A == 0 else opr, \"J\"),\n",
    "    4: lambda _: (reg_B ^ reg_C, \"B\"),\n",
    "    5: lambda opr: (combo[opr]()%8, \"O\"),\n",
    "    6: lambda opr: (reg_A//(2**combo[opr]()), \"B\"),\n",
    "    7: lambda opr: (reg_A//(2**combo[opr]()), \"C\"),\n",
    "}\n",
    "\n",
    "\n",
    "i = 0\n",
    "output_values = []\n",
    "while True:\n",
    "    if i >= len(program):\n",
    "        break\n",
    "    opcode, operand = program[i:i+2]\n",
    "    \n",
    "    value, output = opcodes[opcode](operand)\n",
    "    \n",
    "    match output:\n",
    "        case \"A\":\n",
    "            reg_A=value\n",
    "        case \"B\":\n",
    "            reg_B=value\n",
    "        case \"C\":\n",
    "            reg_C=value\n",
    "        case \"J\":\n",
    "            if value is not None:\n",
    "                i = value\n",
    "                continue\n",
    "        case \"O\":\n",
    "            output_values.append(str(value))\n",
    "    \n",
    "    i += 2\n",
    "    \n",
    "print(\"The output string is:\", \",\".join(output_values))"
   ]
  }
 ],
 "metadata": {
  "kernelspec": {
   "display_name": ".venv",
   "language": "python",
   "name": "python3"
  },
  "language_info": {
   "codemirror_mode": {
    "name": "ipython",
    "version": 3
   },
   "file_extension": ".py",
   "mimetype": "text/x-python",
   "name": "python",
   "nbconvert_exporter": "python",
   "pygments_lexer": "ipython3",
   "version": "3.13.0"
  }
 },
 "nbformat": 4,
 "nbformat_minor": 2
}
