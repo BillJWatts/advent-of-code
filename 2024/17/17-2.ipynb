{
 "cells": [
  {
   "cell_type": "markdown",
   "metadata": {},
   "source": [
    "# Day 17\n",
    "\n",
    "### Part 2"
   ]
  },
  {
   "cell_type": "code",
   "execution_count": 50,
   "metadata": {},
   "outputs": [
    {
     "name": "stdout",
     "output_type": "stream",
     "text": [
      "Smallest reg A value: 156985331222018\n"
     ]
    }
   ],
   "source": [
    "with open(\"input.txt\") as f:\n",
    "    lines = f.read().splitlines()\n",
    "\n",
    "reg_A = int(lines[0].split(\": \")[-1])\n",
    "reg_B = int(lines[1].split(\": \")[-1])\n",
    "reg_C = int(lines[2].split(\": \")[-1])\n",
    "\n",
    "program_string = lines[-1].split(\": \")[-1]\n",
    "program = [int(val) for val in program_string.split(\",\")]\n",
    "combo = {\n",
    "    0: lambda: 0,\n",
    "    1: lambda: 1,\n",
    "    2: lambda: 2,\n",
    "    3: lambda: 3,\n",
    "    4: lambda: reg_A,\n",
    "    5: lambda: reg_B,\n",
    "    6: lambda: reg_C,\n",
    "}\n",
    "\n",
    "opcodes = {\n",
    "    0: lambda opr: (reg_A//(2**combo[opr]()), \"A\"),\n",
    "    1: lambda opr: (reg_B ^ opr, \"B\"),\n",
    "    2: lambda opr: (combo[opr]()%8, \"B\"),\n",
    "    3: lambda opr: (None if reg_A == 0 else opr, \"J\"),\n",
    "    4: lambda _: (reg_B ^ reg_C, \"B\"),\n",
    "    5: lambda opr: (combo[opr]()%8, \"O\"),\n",
    "    6: lambda opr: (reg_A//(2**combo[opr]()), \"B\"),\n",
    "    7: lambda opr: (reg_A//(2**combo[opr]()), \"C\"),\n",
    "}\n",
    "\n",
    "\n",
    "def get_output(program):\n",
    "    global reg_A\n",
    "    global reg_B\n",
    "    global reg_C\n",
    "    i = 0\n",
    "    output_values = []\n",
    "    while True:\n",
    "\n",
    "        if i >= len(program):\n",
    "            break\n",
    "        opcode, operand = program[i:i+2]\n",
    "        \n",
    "        value, output = opcodes[opcode](operand)\n",
    "        \n",
    "        match output:\n",
    "            case \"A\":\n",
    "                reg_A=value\n",
    "            case \"B\":\n",
    "                reg_B=value\n",
    "            case \"C\":\n",
    "                reg_C=value\n",
    "            case \"J\":\n",
    "                if value is not None:\n",
    "                    i = value\n",
    "                    continue\n",
    "            case \"O\":\n",
    "                # print(reg_A, reg_B, reg_C)\n",
    "                output_values.append(value)\n",
    "        \n",
    "        i += 2\n",
    "    return output_values\n",
    "\n",
    "                \n",
    "def get_valid_reg_As():\n",
    "    global reg_A\n",
    "    valid = [0]\n",
    "    for length in range(1,len(program)+1):\n",
    "        old_valid = valid\n",
    "        valid = []\n",
    "        for num in old_valid:\n",
    "            for offset in range(8):\n",
    "                newnum = 8*num+offset\n",
    "                reg_A = newnum\n",
    "                if get_output(program) == program[-length:]:\n",
    "                    valid.append(newnum)\n",
    "    return valid\n",
    "        \n",
    "print(\"Smallest reg A value:\", min(get_valid_reg_As()))\n"
   ]
  }
 ],
 "metadata": {
  "kernelspec": {
   "display_name": ".venv",
   "language": "python",
   "name": "python3"
  },
  "language_info": {
   "codemirror_mode": {
    "name": "ipython",
    "version": 3
   },
   "file_extension": ".py",
   "mimetype": "text/x-python",
   "name": "python",
   "nbconvert_exporter": "python",
   "pygments_lexer": "ipython3",
   "version": "3.13.0"
  }
 },
 "nbformat": 4,
 "nbformat_minor": 2
}
