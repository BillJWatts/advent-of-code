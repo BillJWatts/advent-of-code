{
 "cells": [
  {
   "cell_type": "markdown",
   "metadata": {},
   "source": [
    "# Day 1\n",
    "\n",
    "### Part 2"
   ]
  },
  {
   "cell_type": "code",
   "execution_count": 9,
   "metadata": {},
   "outputs": [
    {
     "name": "stdout",
     "output_type": "stream",
     "text": [
      "Similarity Score: 23082277\n"
     ]
    }
   ],
   "source": [
    "list_1 = []\n",
    "list_2 = []\n",
    "\n",
    "with open(\"input.txt\") as f:\n",
    "    \n",
    "    for line in f.readlines():\n",
    "        left, right = line.split()\n",
    "        list_1.append(int(left))\n",
    "        list_2.append(int(right))\n",
    "    \n",
    "length = len(list_1)\n",
    "\n",
    "similarity_score = 0\n",
    "\n",
    "for number in list_1:\n",
    "    count = list_2.count(number)\n",
    "    \n",
    "    similarity_score += number * count\n",
    "    \n",
    "print(\"Similarity Score:\", similarity_score)\n",
    "    "
   ]
  }
 ],
 "metadata": {
  "kernelspec": {
   "display_name": ".venv",
   "language": "python",
   "name": "python3"
  },
  "language_info": {
   "codemirror_mode": {
    "name": "ipython",
    "version": 3
   },
   "file_extension": ".py",
   "mimetype": "text/x-python",
   "name": "python",
   "nbconvert_exporter": "python",
   "pygments_lexer": "ipython3",
   "version": "3.13.0"
  }
 },
 "nbformat": 4,
 "nbformat_minor": 2
}
