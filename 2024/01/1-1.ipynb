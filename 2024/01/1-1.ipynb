{
 "cells": [
  {
   "cell_type": "code",
   "execution_count": null,
   "metadata": {},
   "outputs": [],
   "source": [
    "list_1 = []\n",
    "list_2 = []\n",
    "\n",
    "with open(\"example.txt\") as f:\n",
    "    \n",
    "    for line in f.readlines():\n",
    "        left, right = line.split()\n",
    "        list_1.append(int(left))\n",
    "        list_2.append(int(right))\n",
    "    \n",
    "length = len(list_1)\n",
    "\n",
    "total_distance = 0\n",
    "\n",
    "for _ in range(length):\n",
    "    left_min = min(list_1)\n",
    "    left_index = list_1.index(left_min)\n",
    "    \n",
    "    right_min = min(list_2)\n",
    "    right_index = list_2.index(right_min)\n",
    "    \n",
    "    distance = abs(left_min - right_min)\n",
    "    \n",
    "    del list_1[left_index]\n",
    "    del list_2[right_index]\n",
    "\n",
    "    total_distance += distance\n",
    "    \n",
    "print(total_distance)"
   ]
  }
 ],
 "metadata": {
  "kernelspec": {
   "display_name": ".venv",
   "language": "python",
   "name": "python3"
  },
  "language_info": {
   "codemirror_mode": {
    "name": "ipython",
    "version": 3
   },
   "file_extension": ".py",
   "mimetype": "text/x-python",
   "name": "python",
   "nbconvert_exporter": "python",
   "pygments_lexer": "ipython3",
   "version": "3.13.0"
  }
 },
 "nbformat": 4,
 "nbformat_minor": 2
}
