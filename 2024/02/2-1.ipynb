{
 "cells": [
  {
   "cell_type": "markdown",
   "metadata": {},
   "source": [
    "# Day 2\n",
    "\n",
    "### Part 1"
   ]
  },
  {
   "cell_type": "code",
   "execution_count": 28,
   "metadata": {},
   "outputs": [
    {
     "name": "stdout",
     "output_type": "stream",
     "text": [
      "Number of safe reports: 282\n"
     ]
    }
   ],
   "source": [
    "reports = []\n",
    "with open(\"input.txt\") as f:\n",
    "    for line in f.readlines():\n",
    "        reports.append([int(num) for num in line.split()])\n",
    "\n",
    "safe_reports = 0\n",
    "\n",
    "for report in reports:\n",
    "    previous_level = None\n",
    "    increasing = None\n",
    "    safe = True\n",
    "    for level in report:\n",
    "        if previous_level is None:\n",
    "            previous_level = level\n",
    "            continue\n",
    "        \n",
    "        if level == previous_level:\n",
    "            safe = False\n",
    "            break\n",
    "        \n",
    "        if increasing is None:\n",
    "            increasing = (level > previous_level)\n",
    "        \n",
    "        if increasing != (level > previous_level):\n",
    "            safe = False\n",
    "            break\n",
    "            \n",
    "        if abs(level-previous_level) > 3:\n",
    "            safe = False\n",
    "            break\n",
    "        \n",
    "        previous_level = level\n",
    "    \n",
    "    if safe:\n",
    "        safe_reports += 1\n",
    "    \n",
    "    increasing = None\n",
    "    safe = True\n",
    "\n",
    "print(\"Number of safe reports:\", safe_reports)\n",
    "        "
   ]
  }
 ],
 "metadata": {
  "kernelspec": {
   "display_name": ".venv",
   "language": "python",
   "name": "python3"
  },
  "language_info": {
   "codemirror_mode": {
    "name": "ipython",
    "version": 3
   },
   "file_extension": ".py",
   "mimetype": "text/x-python",
   "name": "python",
   "nbconvert_exporter": "python",
   "pygments_lexer": "ipython3",
   "version": "3.13.0"
  }
 },
 "nbformat": 4,
 "nbformat_minor": 2
}
