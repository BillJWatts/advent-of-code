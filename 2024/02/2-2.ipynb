{
 "cells": [
  {
   "cell_type": "markdown",
   "metadata": {},
   "source": [
    "# Day 2\n",
    "\n",
    "### Part 2"
   ]
  },
  {
   "cell_type": "code",
   "execution_count": 47,
   "metadata": {},
   "outputs": [
    {
     "name": "stdout",
     "output_type": "stream",
     "text": [
      "Number of safe reports: 349\n"
     ]
    }
   ],
   "source": [
    "from itertools import combinations\n",
    "\n",
    "reports = []\n",
    "with open(\"input.txt\") as f:\n",
    "    for line in f.readlines():\n",
    "        reports.append([int(num) for num in line.split()])\n",
    "\n",
    "\n",
    "def is_report_safe(report: list[int]) -> bool:\n",
    "    previous_level = None\n",
    "    increasing = None\n",
    "    for level in report:\n",
    "        if previous_level is None:\n",
    "            previous_level = level\n",
    "            continue\n",
    "        \n",
    "        if increasing is None:\n",
    "            increasing = (level > previous_level)\n",
    "        \n",
    "        # no change case\n",
    "        if level == previous_level:\n",
    "            return False\n",
    "        \n",
    "        # direction change case\n",
    "        if increasing != (level > previous_level):\n",
    "            return False\n",
    "        \n",
    "        # big jump case \n",
    "        if abs(level-previous_level) > 3:\n",
    "            return False\n",
    "        \n",
    "        previous_level = level\n",
    "    \n",
    "    return True\n",
    "\n",
    "safe_reports = 0\n",
    "\n",
    "for report in reports:\n",
    "    \n",
    "    if is_report_safe(report):\n",
    "        safe_reports += 1\n",
    "        continue\n",
    "    \n",
    "    dampened_reports = [list(d_report) for d_report in combinations(report, len(report) - 1)]\n",
    "\n",
    "    if any([is_report_safe(report) for report in dampened_reports]):\n",
    "        safe_reports += 1\n",
    "\n",
    "print(\"Number of safe reports:\", safe_reports)\n",
    "        "
   ]
  }
 ],
 "metadata": {
  "kernelspec": {
   "display_name": ".venv",
   "language": "python",
   "name": "python3"
  },
  "language_info": {
   "codemirror_mode": {
    "name": "ipython",
    "version": 3
   },
   "file_extension": ".py",
   "mimetype": "text/x-python",
   "name": "python",
   "nbconvert_exporter": "python",
   "pygments_lexer": "ipython3",
   "version": "3.13.0"
  }
 },
 "nbformat": 4,
 "nbformat_minor": 2
}
