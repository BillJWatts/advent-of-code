{
 "cells": [
  {
   "cell_type": "markdown",
   "metadata": {},
   "source": [
    "# Day 18\n",
    "\n",
    "### Part 1"
   ]
  },
  {
   "cell_type": "code",
   "execution_count": 24,
   "metadata": {},
   "outputs": [
    {
     "name": "stdout",
     "output_type": "stream",
     "text": [
      "Minimum number of steps: 446\n"
     ]
    }
   ],
   "source": [
    "from queue import PriorityQueue\n",
    "\n",
    "EXAMPLE = False\n",
    "\n",
    "file = \"example.txt\" if EXAMPLE else \"input.txt\"\n",
    "\n",
    "with open(file) as f:\n",
    "    data = [line.split(\",\") for line in f.read().splitlines()]\n",
    "\n",
    "data = [(int(x), int(y)) for x, y in data]\n",
    "GRID_LEN = 7 if EXAMPLE else 71\n",
    "SIM_TIME = 12 if EXAMPLE else 1024\n",
    "\n",
    "grid = [[\".\" for _ in range(GRID_LEN)] for _ in range(GRID_LEN)]\n",
    "\n",
    "for i in range(SIM_TIME):\n",
    "    x, y = data[i]\n",
    "    grid[y][x] = \"#\"\n",
    "    \n",
    "def mh_dist(node1,node2):\n",
    "    x1,y1=node1\n",
    "    x2,y2=node2\n",
    "\n",
    "    return abs(x1-x2) + abs(y1-y2)\n",
    "\n",
    "queue = PriorityQueue()\n",
    "g_scores = {}\n",
    "f_scores = {}\n",
    "\n",
    "start = (0,0)\n",
    "end = (GRID_LEN-1,GRID_LEN-1)\n",
    "\n",
    "for y, row in enumerate(grid):\n",
    "    for x, node in enumerate(row):\n",
    "        g_scores[(x,y)] = float(\"inf\")\n",
    "        f_scores[(x,y)] = float(\"inf\")\n",
    "\n",
    "g_scores[start] = 0\n",
    "f_scores[start] = mh_dist(start, end)\n",
    "\n",
    "queue.put((mh_dist(start, end), mh_dist(start, end), start))\n",
    "score = 0\n",
    "paths={}\n",
    "while not queue.empty():\n",
    "    _, _, curr_cell = queue.get()\n",
    "    if curr_cell == end:\n",
    "        break\n",
    "    cx, cy = curr_cell\n",
    "    for d in \"UDLR\":\n",
    "        if d == \"U\":\n",
    "            child_cell = (cx, cy-1)\n",
    "        if d == \"D\":\n",
    "            child_cell = (cx, cy+1)\n",
    "        if d == \"L\":\n",
    "            child_cell = (cx-1, cy)\n",
    "        if d == \"R\":\n",
    "            child_cell = (cx+1, cy)\n",
    "        \n",
    "        chx, chy = child_cell\n",
    "        if not 0 <= chx < GRID_LEN or not 0 <= chy < GRID_LEN:\n",
    "            continue\n",
    "        if grid[chy][chx] == \"#\":\n",
    "            continue\n",
    "\n",
    "        temp_g_score = g_scores[curr_cell]+1\n",
    "            \n",
    "        temp_f_score = temp_g_score+mh_dist(child_cell, end)\n",
    "        \n",
    "        if temp_f_score < f_scores[child_cell]:\n",
    "            g_scores[child_cell]=temp_g_score\n",
    "            f_scores[child_cell]=temp_f_score\n",
    "            queue.put((temp_f_score, mh_dist(child_cell, end), child_cell))\n",
    "            paths[child_cell]=curr_cell\n",
    "\n",
    "steps = 0\n",
    "cell = end\n",
    "while cell!=start:\n",
    "    steps+=1\n",
    "    cell = paths[cell]\n",
    "\n",
    "print(\"Minimum number of steps:\", steps)"
   ]
  }
 ],
 "metadata": {
  "kernelspec": {
   "display_name": ".venv",
   "language": "python",
   "name": "python3"
  },
  "language_info": {
   "codemirror_mode": {
    "name": "ipython",
    "version": 3
   },
   "file_extension": ".py",
   "mimetype": "text/x-python",
   "name": "python",
   "nbconvert_exporter": "python",
   "pygments_lexer": "ipython3",
   "version": "3.13.0"
  }
 },
 "nbformat": 4,
 "nbformat_minor": 2
}
