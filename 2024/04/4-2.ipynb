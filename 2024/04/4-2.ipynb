{
 "cells": [
  {
   "cell_type": "markdown",
   "metadata": {},
   "source": [
    "# Day 4\n",
    "\n",
    "### Part 2"
   ]
  },
  {
   "cell_type": "code",
   "execution_count": 32,
   "metadata": {},
   "outputs": [
    {
     "name": "stdout",
     "output_type": "stream",
     "text": [
      "Number of X-MAS found: 1941\n"
     ]
    }
   ],
   "source": [
    "import numpy as np\n",
    "\n",
    "with open(\"input.txt\") as f:\n",
    "    lines = f.read().splitlines()\n",
    "    \n",
    "rows = [list(line) for line in lines]\n",
    "\n",
    "grid = np.array(rows)\n",
    "\n",
    "search_limit = len(grid)-1\n",
    "\n",
    "mas_count = 0\n",
    "\n",
    "for x in range(1, search_limit):\n",
    "    for y in range(1, search_limit):\n",
    "        \n",
    "        if grid[x,y] != \"A\":\n",
    "            continue\n",
    "        \n",
    "        tlbr = (grid[x-1, y-1], grid[x+1, y+1])\n",
    "        \n",
    "        if \"M\" not in tlbr or \"S\" not in tlbr:\n",
    "            continue\n",
    "        \n",
    "        bltr = (grid[x-1, y+1], grid[x+1, y-1])\n",
    "        \n",
    "        if \"M\" not in bltr or \"S\" not in bltr:\n",
    "            continue\n",
    "        \n",
    "        mas_count += 1\n",
    "        \n",
    "print(\"Number of X-MAS found:\", mas_count)"
   ]
  }
 ],
 "metadata": {
  "kernelspec": {
   "display_name": ".venv",
   "language": "python",
   "name": "python3"
  },
  "language_info": {
   "codemirror_mode": {
    "name": "ipython",
    "version": 3
   },
   "file_extension": ".py",
   "mimetype": "text/x-python",
   "name": "python",
   "nbconvert_exporter": "python",
   "pygments_lexer": "ipython3",
   "version": "3.13.0"
  }
 },
 "nbformat": 4,
 "nbformat_minor": 2
}
