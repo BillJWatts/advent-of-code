{
 "cells": [
  {
   "cell_type": "markdown",
   "metadata": {},
   "source": [
    "# Day 4\n",
    "\n",
    "### Part 1"
   ]
  },
  {
   "cell_type": "code",
   "execution_count": 86,
   "metadata": {},
   "outputs": [
    {
     "name": "stdout",
     "output_type": "stream",
     "text": [
      "Number of XMAS found: 2532\n"
     ]
    }
   ],
   "source": [
    "import numpy as np\n",
    "\n",
    "with open(\"input.txt\") as f:\n",
    "    lines = f.read().splitlines()\n",
    "    \n",
    "rows = [list(line) for line in lines]\n",
    "\n",
    "grid = np.array(rows)\n",
    "\n",
    "# Horizontal slices\n",
    "h_slices = lines\n",
    "\n",
    "# Vertical slices\n",
    "v_slices = []\n",
    "for column in grid.T:\n",
    "    v_slices.append(\"\".join([str(char) for char in column]))\n",
    "\n",
    "# Diagonal TLBR slices\n",
    "d_tlbr_slices = []\n",
    "limit = len(grid) - 4\n",
    "for offset in range(-limit, limit+1):\n",
    "    diagonal = grid.diagonal(offset)\n",
    "    d_tlbr_slices.append(\"\".join([str(char) for char in diagonal]))\n",
    "\n",
    "# Diagonal BLTR slices\n",
    "d_bltr_slices = []\n",
    "for offset in range(-limit, limit+1):\n",
    "    diagonal = np.fliplr(grid).diagonal(offset)\n",
    "    d_bltr_slices.append(\"\".join([str(char) for char in diagonal]))\n",
    "\n",
    "xmas_count = 0\n",
    "for grid_slice in h_slices+v_slices+d_tlbr_slices+d_bltr_slices:\n",
    "    forward_count = grid_slice.count(\"XMAS\")\n",
    "    backward_count = grid_slice[::-1].count(\"XMAS\")\n",
    "    xmas_count += forward_count + backward_count\n",
    "    \n",
    "print(\"Number of XMAS found:\", xmas_count)"
   ]
  }
 ],
 "metadata": {
  "kernelspec": {
   "display_name": ".venv",
   "language": "python",
   "name": "python3"
  },
  "language_info": {
   "codemirror_mode": {
    "name": "ipython",
    "version": 3
   },
   "file_extension": ".py",
   "mimetype": "text/x-python",
   "name": "python",
   "nbconvert_exporter": "python",
   "pygments_lexer": "ipython3",
   "version": "3.13.0"
  }
 },
 "nbformat": 4,
 "nbformat_minor": 2
}
