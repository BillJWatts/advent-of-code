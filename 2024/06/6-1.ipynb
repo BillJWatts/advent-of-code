{
 "cells": [
  {
   "cell_type": "markdown",
   "metadata": {},
   "source": [
    "# Day 6\n",
    "\n",
    "### Part 1"
   ]
  },
  {
   "cell_type": "code",
   "execution_count": 1,
   "metadata": {},
   "outputs": [
    {
     "name": "stdout",
     "output_type": "stream",
     "text": [
      "Number of distinct positios: 4903\n"
     ]
    }
   ],
   "source": [
    "from dataclasses import dataclass\n",
    "\n",
    "with open(\"input.txt\") as f:\n",
    "    rows = [list(line) for line in f.read().splitlines()]\n",
    "    \n",
    "@dataclass(frozen=True)\n",
    "class Coord:\n",
    "    x: int\n",
    "    y: int\n",
    "    \n",
    "    def __add__(self, other):\n",
    "        return Coord(self.x + other.x, self.y + other.y)\n",
    "    \n",
    "    def __iter__(self):\n",
    "        return iter((self.x, self.y))\n",
    "    \n",
    "UP = Coord(0,-1)\n",
    "RIGHT = Coord(1,0)\n",
    "DOWN = Coord(0,1)\n",
    "LEFT = Coord(-1,0)\n",
    "    \n",
    "grid = {}\n",
    "\n",
    "starting_position = None\n",
    "starting_direction = None\n",
    "\n",
    "direction_vectors = {\"^\":UP,\">\":RIGHT,\"v\":DOWN,\"<\":LEFT}\n",
    "\n",
    "def get_next_direction(direction):\n",
    "    if direction == UP:\n",
    "        return RIGHT\n",
    "    if direction == RIGHT:\n",
    "        return DOWN\n",
    "    if direction == DOWN:\n",
    "        return LEFT\n",
    "    if direction == LEFT:\n",
    "        return UP\n",
    "        \n",
    "    \n",
    "for y, row in enumerate(rows):\n",
    "    for x, location in enumerate(row):\n",
    "        if location in direction_vectors:\n",
    "            starting_position = Coord(x,y)\n",
    "            starting_direction = direction_vectors[location]\n",
    "        grid[x,y] = location\n",
    "\n",
    "distinct_positions = set()\n",
    "distinct_positions.add(starting_position)\n",
    "\n",
    "current_position = starting_position\n",
    "next_position = None\n",
    "current_direction = starting_direction\n",
    "while True:\n",
    "    next_position = current_position + current_direction\n",
    "    try:\n",
    "        location = grid[*next_position]\n",
    "    except KeyError:\n",
    "        break\n",
    "    if location == \"#\":\n",
    "        current_direction = get_next_direction(current_direction)\n",
    "        continue\n",
    "    current_position = next_position\n",
    "    distinct_positions.add(next_position)\n",
    "\n",
    "print(\"Number of distinct positios:\", len(distinct_positions))\n"
   ]
  }
 ],
 "metadata": {
  "kernelspec": {
   "display_name": ".venv",
   "language": "python",
   "name": "python3"
  },
  "language_info": {
   "codemirror_mode": {
    "name": "ipython",
    "version": 3
   },
   "file_extension": ".py",
   "mimetype": "text/x-python",
   "name": "python",
   "nbconvert_exporter": "python",
   "pygments_lexer": "ipython3",
   "version": "3.13.0"
  }
 },
 "nbformat": 4,
 "nbformat_minor": 2
}
