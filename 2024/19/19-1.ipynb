{
 "cells": [
  {
   "cell_type": "markdown",
   "metadata": {},
   "source": [
    "# Day 19\n",
    "\n",
    "### Part 1"
   ]
  },
  {
   "cell_type": "code",
   "execution_count": 39,
   "metadata": {},
   "outputs": [
    {
     "name": "stdout",
     "output_type": "stream",
     "text": [
      "Possible designs: 280\n"
     ]
    }
   ],
   "source": [
    "from collections import deque\n",
    "\n",
    "with open(\"input.txt\") as f:\n",
    "    lines = f.read().splitlines()\n",
    "    \n",
    "towels = lines[0].split(\", \")\n",
    "patterns = lines[2:]\n",
    "\n",
    "valid_patterns = []\n",
    "\n",
    "for i, pattern in enumerate(patterns):\n",
    "    build_patterns = deque([towel for towel in towels if pattern.startswith(towel)])\n",
    "    if not build_patterns:\n",
    "        continue\n",
    "    while build_patterns:\n",
    "        pot_pattern = build_patterns.popleft()\n",
    "        if pot_pattern == pattern:\n",
    "            valid_patterns.append(pot_pattern)\n",
    "            break\n",
    "        for towel in towels:\n",
    "            if pattern.startswith(pot_pattern + towel):\n",
    "                if pot_pattern not in build_patterns:\n",
    "                    build_patterns.append(pot_pattern+towel)\n",
    "\n",
    "print(\"Possible designs:\", len(valid_patterns))"
   ]
  }
 ],
 "metadata": {
  "kernelspec": {
   "display_name": ".venv",
   "language": "python",
   "name": "python3"
  },
  "language_info": {
   "codemirror_mode": {
    "name": "ipython",
    "version": 3
   },
   "file_extension": ".py",
   "mimetype": "text/x-python",
   "name": "python",
   "nbconvert_exporter": "python",
   "pygments_lexer": "ipython3",
   "version": "3.13.0"
  }
 },
 "nbformat": 4,
 "nbformat_minor": 2
}
