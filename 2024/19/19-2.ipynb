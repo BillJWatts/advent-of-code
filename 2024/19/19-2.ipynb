{
 "cells": [
  {
   "cell_type": "markdown",
   "metadata": {},
   "source": [
    "# Day 19\n",
    "\n",
    "### Part 2"
   ]
  },
  {
   "cell_type": "code",
   "execution_count": 75,
   "metadata": {},
   "outputs": [
    {
     "name": "stdout",
     "output_type": "stream",
     "text": [
      "606411968721181\n"
     ]
    }
   ],
   "source": [
    "import functools\n",
    "\n",
    "with open(\"input.txt\") as f:\n",
    "    lines = f.read().splitlines()\n",
    "    \n",
    "towels = lines[0].split(\", \")\n",
    "patterns = lines[2:]\n",
    "\n",
    "valid_patterns = 0\n",
    "\n",
    "@functools.cache\n",
    "def matches(pattern):\n",
    "    if not pattern:\n",
    "        return 1\n",
    "    return sum( matches(pattern[len(t):]) for t in towels if pattern.startswith(t) )\n",
    "\n",
    "print(sum( matches(p) for p in patterns ))\n",
    "\n"
   ]
  }
 ],
 "metadata": {
  "kernelspec": {
   "display_name": ".venv",
   "language": "python",
   "name": "python3"
  },
  "language_info": {
   "codemirror_mode": {
    "name": "ipython",
    "version": 3
   },
   "file_extension": ".py",
   "mimetype": "text/x-python",
   "name": "python",
   "nbconvert_exporter": "python",
   "pygments_lexer": "ipython3",
   "version": "3.13.0"
  }
 },
 "nbformat": 4,
 "nbformat_minor": 2
}
