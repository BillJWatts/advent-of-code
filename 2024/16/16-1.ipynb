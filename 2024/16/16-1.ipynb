{
 "cells": [
  {
   "cell_type": "markdown",
   "metadata": {},
   "source": [
    "# Day 16\n",
    "\n",
    "### Part 1"
   ]
  },
  {
   "cell_type": "code",
   "execution_count": 35,
   "metadata": {},
   "outputs": [
    {
     "name": "stdout",
     "output_type": "stream",
     "text": [
      "Lowest maze score: 7036\n"
     ]
    }
   ],
   "source": [
    "from queue import PriorityQueue\n",
    "\n",
    "with open(\"example.txt\") as f:\n",
    "    grid = [list(line) for line in f.read().splitlines()]\n",
    "\n",
    "def mh_dist(node1,node2):\n",
    "    x1,y1=node1\n",
    "    x2,y2=node2\n",
    "\n",
    "    return abs(x1-x2) + abs(y1-y2)\n",
    "\n",
    "queue = PriorityQueue()\n",
    "g_scores = {}\n",
    "f_scores = {}\n",
    "\n",
    "start = (1,len(grid)-2)\n",
    "end = (len(grid)-2,1)\n",
    "\n",
    "for y, row in enumerate(grid):\n",
    "    for x, node in enumerate(row):\n",
    "        g_scores[(x,y)] = float(\"inf\")\n",
    "        f_scores[(x,y)] = float(\"inf\")\n",
    "\n",
    "g_scores[start] = 0\n",
    "f_scores[start] = mh_dist(start, end)\n",
    "\n",
    "queue.put((mh_dist(start, end), mh_dist(start, end), start, \"R\"))\n",
    "score = 0\n",
    "while not queue.empty():\n",
    "    _, _, curr_cell, incoming_direction = queue.get()\n",
    "    if curr_cell == end:\n",
    "        break\n",
    "    cx, cy = curr_cell\n",
    "    for d in \"UDLR\":\n",
    "        if d == \"U\":\n",
    "            child_cell = (cx, cy-1)\n",
    "        if d == \"D\":\n",
    "            child_cell = (cx, cy+1)\n",
    "        if d == \"L\":\n",
    "            child_cell = (cx-1, cy)\n",
    "        if d == \"R\":\n",
    "            child_cell = (cx+1, cy)\n",
    "        \n",
    "        if grid[child_cell[1]][child_cell[0]] == \"#\":\n",
    "            continue\n",
    "\n",
    "        if d == incoming_direction:\n",
    "            temp_g_score = g_scores[curr_cell]+1\n",
    "        else:\n",
    "            temp_g_score = g_scores[curr_cell]+1001\n",
    "            \n",
    "        temp_f_score = temp_g_score+mh_dist(child_cell, end)\n",
    "        \n",
    "        if temp_f_score < f_scores[child_cell]:\n",
    "            g_scores[child_cell]=temp_g_score\n",
    "            f_scores[child_cell]=temp_f_score\n",
    "            queue.put((temp_f_score, mh_dist(child_cell, end), child_cell, d))\n",
    "            score =temp_g_score\n",
    "\n",
    "print(\"Lowest maze score:\", score)"
   ]
  }
 ],
 "metadata": {
  "kernelspec": {
   "display_name": ".venv",
   "language": "python",
   "name": "python3"
  },
  "language_info": {
   "codemirror_mode": {
    "name": "ipython",
    "version": 3
   },
   "file_extension": ".py",
   "mimetype": "text/x-python",
   "name": "python",
   "nbconvert_exporter": "python",
   "pygments_lexer": "ipython3",
   "version": "3.13.0"
  }
 },
 "nbformat": 4,
 "nbformat_minor": 2
}
