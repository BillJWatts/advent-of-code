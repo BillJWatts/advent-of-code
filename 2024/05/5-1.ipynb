{
 "cells": [
  {
   "cell_type": "code",
   "execution_count": 1,
   "metadata": {},
   "outputs": [
    {
     "name": "stdout",
     "output_type": "stream",
     "text": [
      "Sum of middle page numbers: 5329\n"
     ]
    }
   ],
   "source": [
    "from itertools import combinations\n",
    "\n",
    "rule_lines = []\n",
    "update_lines = []\n",
    "\n",
    "with open(\"input.txt\") as f:\n",
    "    add_to_updates = False\n",
    "    for line in f.read().splitlines():\n",
    "        if not line:\n",
    "            add_to_updates = True\n",
    "            continue\n",
    "        if add_to_updates:\n",
    "            update_lines.append(line)\n",
    "            continue\n",
    "        rule_lines.append(line)\n",
    "\n",
    "updates = [line.split(\",\") for line in update_lines]\n",
    "\n",
    "middle_page_sum = 0\n",
    "for update in updates:\n",
    "    if any([f\"{x}|{y}\" in rule_lines for x, y in list(combinations(update[::-1], 2))]):\n",
    "        continue\n",
    "    middle_page_sum += int(update[len(update)//2])\n",
    "\n",
    "print(\"Sum of middle page numbers:\", middle_page_sum)"
   ]
  }
 ],
 "metadata": {
  "kernelspec": {
   "display_name": ".venv",
   "language": "python",
   "name": "python3"
  },
  "language_info": {
   "codemirror_mode": {
    "name": "ipython",
    "version": 3
   },
   "file_extension": ".py",
   "mimetype": "text/x-python",
   "name": "python",
   "nbconvert_exporter": "python",
   "pygments_lexer": "ipython3",
   "version": "3.13.0"
  }
 },
 "nbformat": 4,
 "nbformat_minor": 2
}
