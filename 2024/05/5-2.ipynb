{
 "cells": [
  {
   "cell_type": "markdown",
   "metadata": {},
   "source": [
    "# Day 5\n",
    "\n",
    "### Part 2"
   ]
  },
  {
   "cell_type": "code",
   "execution_count": 158,
   "metadata": {},
   "outputs": [
    {
     "name": "stdout",
     "output_type": "stream",
     "text": [
      "Sum of middle page numbers: 5833\n"
     ]
    }
   ],
   "source": [
    "from itertools import combinations\n",
    "\n",
    "rule_lines = []\n",
    "update_lines = []\n",
    "\n",
    "with open(\"input.txt\") as f:\n",
    "    add_to_updates = False\n",
    "    for line in f.read().splitlines():\n",
    "        if not line:\n",
    "            add_to_updates = True\n",
    "            continue\n",
    "        if add_to_updates:\n",
    "            update_lines.append(line)\n",
    "            continue\n",
    "        rule_lines.append(line)\n",
    "\n",
    "updates = [line.split(\",\") for line in update_lines]\n",
    "\n",
    "rules = [tuple(rule.split(\"|\")) for rule in rule_lines]\n",
    "\n",
    "\n",
    "def merge(left, right):\n",
    "    result = []\n",
    "    i ,j = 0, 0\n",
    "    while i < len(left) and j < len(right):\n",
    "        if (left[i], right[j]) in rules:\n",
    "            result.append(left[i])\n",
    "            i += 1\n",
    "        else:\n",
    "            result.append(right[j])\n",
    "            j += 1\n",
    "    result += left[i:]\n",
    "    result += right[j:]\n",
    "    return result\n",
    "\n",
    "def mergesort(list):\n",
    "    if len(list) < 2:\n",
    "        return list\n",
    "    middle = len(list) // 2\n",
    "    left = mergesort(list[:middle])\n",
    "    right = mergesort(list[middle:])\n",
    "    return merge(left, right)\n",
    "\n",
    "middle_page_sum = 0\n",
    "for update in updates:\n",
    "    if not any([f\"{x}|{y}\" in rule_lines for x, y in list(combinations(update[::-1], 2))]):\n",
    "        continue\n",
    "    corrected_update = mergesort(update)\n",
    "    middle_page_sum += int(corrected_update[len(update)//2])\n",
    "        \n",
    "print(\"Sum of middle page numbers:\", middle_page_sum)"
   ]
  }
 ],
 "metadata": {
  "kernelspec": {
   "display_name": ".venv",
   "language": "python",
   "name": "python3"
  },
  "language_info": {
   "codemirror_mode": {
    "name": "ipython",
    "version": 3
   },
   "file_extension": ".py",
   "mimetype": "text/x-python",
   "name": "python",
   "nbconvert_exporter": "python",
   "pygments_lexer": "ipython3",
   "version": "3.13.0"
  }
 },
 "nbformat": 4,
 "nbformat_minor": 2
}
