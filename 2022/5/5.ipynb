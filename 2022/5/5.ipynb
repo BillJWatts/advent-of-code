{
 "cells": [
  {
   "cell_type": "code",
   "execution_count": 2,
   "metadata": {},
   "outputs": [],
   "source": [
    "with open(\"5.txt\") as file:\n",
    "    q_input = file.read().splitlines()"
   ]
  },
  {
   "cell_type": "code",
   "execution_count": 10,
   "metadata": {},
   "outputs": [
    {
     "name": "stdout",
     "output_type": "stream",
     "text": [
      "VWLCWGSDQ\n"
     ]
    }
   ],
   "source": [
    "stacks = q_input[:8]\n",
    "stacks.reverse()\n",
    "bins = q_input[8].split()\n",
    "STACKS = {_bin:[] for _bin in bins}\n",
    "\n",
    "for row in stacks:\n",
    "    for _bin, i in enumerate(range(1, len(row), 4)):\n",
    "        if row[i] != ' ':\n",
    "            STACKS[str(_bin+1)].append(row[i])\n",
    "\n",
    "def move_crates(source, target, amount):\n",
    "    for _ in range(int(amount)):\n",
    "        crate = STACKS[source].pop()\n",
    "        STACKS[target].append(crate)\n",
    "\n",
    "def parse_command(command):\n",
    "    single_digit = command[7] == 'f'\n",
    "    amount = command[5] if single_digit else command[5:7]\n",
    "    source = command[12] if single_digit else command[13]\n",
    "    target = command[-1]\n",
    "    return source, target, amount\n",
    "\n",
    "commands = q_input[10:]\n",
    "\n",
    "for command in commands:\n",
    "    source, target, amount = parse_command(command)\n",
    "    move_crates(source,target, amount)\n",
    "\n",
    "last_items = []\n",
    "for _bin, stack in STACKS.items():\n",
    "    last_items.append(stack[-1])\n",
    "\n",
    "print(''.join(letter for letter in last_items))\n"
   ]
  },
  {
   "cell_type": "code",
   "execution_count": 15,
   "metadata": {},
   "outputs": [
    {
     "name": "stdout",
     "output_type": "stream",
     "text": [
      "TCGLQSLPW\n"
     ]
    }
   ],
   "source": [
    "stacks = q_input[:8]\n",
    "stacks.reverse()\n",
    "bins = q_input[8].split()\n",
    "STACKS = {_bin:[] for _bin in bins}\n",
    "\n",
    "for row in stacks:\n",
    "    for _bin, i in enumerate(range(1, len(row), 4)):\n",
    "        if row[i] != ' ':\n",
    "            STACKS[str(_bin+1)].append(row[i])\n",
    "\n",
    "def move_crates(source, target, amount):\n",
    "    crates = STACKS[source][-int(amount):]\n",
    "    for _ in range(int(amount)):\n",
    "        STACKS[source].pop()\n",
    "    STACKS[target].extend(crates)\n",
    "\n",
    "def parse_command(command):\n",
    "    single_digit = command[7] == 'f'\n",
    "    amount = command[5] if single_digit else command[5:7]\n",
    "    source = command[12] if single_digit else command[13]\n",
    "    target = command[-1]\n",
    "    return source, target, amount\n",
    "\n",
    "commands = q_input[10:]\n",
    "\n",
    "for command in commands:\n",
    "    source, target, amount = parse_command(command)\n",
    "    move_crates(source,target, amount)\n",
    "\n",
    "last_items = []\n",
    "for _bin, stack in STACKS.items():\n",
    "    last_items.append(stack[-1])\n",
    "\n",
    "print(''.join(letter for letter in last_items))"
   ]
  }
 ],
 "metadata": {
  "kernelspec": {
   "display_name": "Python 3.8.1 ('venv': venv)",
   "language": "python",
   "name": "python3"
  },
  "language_info": {
   "codemirror_mode": {
    "name": "ipython",
    "version": 3
   },
   "file_extension": ".py",
   "mimetype": "text/x-python",
   "name": "python",
   "nbconvert_exporter": "python",
   "pygments_lexer": "ipython3",
   "version": "3.8.1"
  },
  "orig_nbformat": 4,
  "vscode": {
   "interpreter": {
    "hash": "b6f009172bb29b71107a2cdbab25de2a6d2fa8b0a42abed6d0a5e7be1a9a37e8"
   }
  }
 },
 "nbformat": 4,
 "nbformat_minor": 2
}
