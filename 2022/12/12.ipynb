{
 "cells": [
  {
   "cell_type": "code",
   "execution_count": 95,
   "metadata": {},
   "outputs": [],
   "source": [
    "with open(\"12.txt\") as i:\n",
    "    q_input = i.read().splitlines()"
   ]
  },
  {
   "cell_type": "code",
   "execution_count": 96,
   "metadata": {},
   "outputs": [],
   "source": [
    "from dataclasses import dataclass\n",
    "\n",
    "@dataclass\n",
    "class Coord:\n",
    "    x: int\n",
    "    y: int\n",
    "    def __add__(self, other):\n",
    "        return Coord(self.x + other.x, self.y + other.y)\n",
    "    def __sub__(self, other):\n",
    "        return Coord(self.x - other.x, self.y - other.y)\n",
    "    def __hash__(self):\n",
    "        return hash((self.x, self.y))\n",
    "\n",
    "UP=Coord(0,1)\n",
    "DOWN=Coord(0,-1)\n",
    "LEFT=Coord(-1,0)\n",
    "RIGHT=Coord(1,0)\n",
    "\n"
   ]
  },
  {
   "cell_type": "code",
   "execution_count": 97,
   "metadata": {},
   "outputs": [
    {
     "name": "stdout",
     "output_type": "stream",
     "text": [
      "Part 1: 447\n"
     ]
    }
   ],
   "source": [
    "GRID = {}\n",
    "\n",
    "def is_valid_path(current: Coord, target: Coord):\n",
    "    if not GRID.get(target, None):\n",
    "        return False\n",
    "\n",
    "    current_letter = \"a\" if GRID[current] == \"S\" else GRID[current] \n",
    "    target_letter = \"z\" if GRID[target] == \"E\" else GRID[target]\n",
    "    start_val = ord(current_letter) - 38\n",
    "    target_val = ord(target_letter) - 38\n",
    "    return target_val == start_val + 1 or target_val <= start_val\n",
    "        \n",
    "\n",
    "def find_valid_paths(coord):\n",
    "    up=coord+UP\n",
    "    down=coord+DOWN\n",
    "    left=coord+LEFT\n",
    "    right=coord+RIGHT\n",
    "    x = [target for target in [up, down, left, right] if is_valid_path(coord, target)]\n",
    "\n",
    "    return x\n",
    "\n",
    "for y, row in enumerate(reversed([list(x) for x in q_input])):\n",
    "    for x, letter in enumerate(row):\n",
    "        GRID[Coord(x,y)] = letter\n",
    "\n",
    "def bfs(start):\n",
    "    start_coord = start\n",
    "    end_coord = [key for key, value in GRID.items() if value == \"E\"][0]\n",
    "\n",
    "    visited = {start_coord: None}\n",
    "    queue = [start_coord]\n",
    "\n",
    "    loops=0\n",
    "    while queue:\n",
    "        loops+=1\n",
    "        current_coord = queue.pop(0)\n",
    "        if current_coord == end_coord:\n",
    "            shortest_path = []\n",
    "            while current_coord:\n",
    "                shortest_path.append(current_coord)\n",
    "                current_coord = visited[current_coord]\n",
    "            return shortest_path\n",
    "\n",
    "        for path in find_valid_paths(current_coord):\n",
    "            if path not in visited:\n",
    "                visited[path] = current_coord\n",
    "                queue.append(path)\n",
    "\n",
    "p1_shortest_path = bfs([key for key, value in GRID.items() if value == \"S\"][0])\n",
    "\n",
    "print(\"Part 1:\" ,len(p1_shortest_path)-1)\n",
    "\n"
   ]
  },
  {
   "cell_type": "code",
   "execution_count": 116,
   "metadata": {},
   "outputs": [
    {
     "name": "stdout",
     "output_type": "stream",
     "text": [
      "['abaaaaaccccccccaaaaaaaaaaccccaaaaaaaaaccccaacccccccccccccccccccccaaaaaaaaaaaccaaaaaaaaaccccccccccaaaaaaaacaaaaaaccccccccccccccccccccccccccccccccccccccccccaaaaa', 'abaaaaaaaccccccaaaaaaaaaacccccaaaaaacccccaaaacccccccccccccaacccccaaaaaaaaaaaacaaaaaaaaacccccccccaaaaaaaaaaaaaaaccccccccccccccccccccccccccccccccccccccccccccaaaa', 'abacaaaaaccccccccaaaaaacccccccaaaaaacccccaaaacccccccccccccaacccaaaaaaaaaaaaaacaaaaaaaaccccccccccaaaaaaaaaaaaaaaaccccccccccccccccccccccccccaaaccccccccccccccaaaa', 'abccaacccccccccccaaaaaaccccccaaaaaaacccccaaaacccaacccccaaaaaaaaaaaaaaaaaaaaacaaaaaaaccccccccccccacaaaaaccaaaaaaaccccccccccccccccccccccccccaaccccccccccccccaaaaa', 'abcaaccccccccaaaaaaaaaaccccccaaacaaaccccccccccccaaaaaccaaaaaaaaaaaaaaaaaaaaaccaccaaacccccccccccccccaaaacccaaaaaaccccccccccccccccccccccccccaaacccccccccccccaaaca', 'abcccccccccccaaaaaaaaaaaaacccccccccacccccccccccaaaaacccccaaaacaaaaaaaaaaaaccccaaaaaaccccccccaaacccccaaccccaacccccccccccccccccccccccaaaaccaaaccccccccccccccccccc', 'abccccccccccaaaaaaccccaaaacccccccccccccccccccccaaaaaaccccaaaaaaaaaaaaaacaaacccaaaaaaaacccccaaaaaacccccccccccccccccccccccccccccccccccaaaaaaaaacccccccccccccccccc', 'abacccccccccaaaaaacccccaaacaaacccccccccacccaaccccaaaacccaaacaaaaaaaaaaacccccccaaaaaaaacccccaaaaaaccccccccccccccccccccccccccccccccjjjjjjjaaaaaaaaaccccaacccccccc', 'abaccccccccccaaaaaccaaaaaaaaaaccaccccccaacaaacccaaccccccaacccaaaaaaaaaaacccccccaaaaaaacccccaaaaaccccccccccccccccccccccccccccccccijjjjjjjjjhhhhhhhhhcaaaaaaccccc', 'abaacccccccccaaaccccaaaaaaaaaaaaaccccccaaaaacccccccccccccccccccccaaaaaaacccccccaaaaaccccccccaaaaacccccccccccccccaaaaccccccccccc██████████████████hhhcaaaaaccccc', 'abaaccccccccccccccccccaaaaaacaaaaaacccccaaaaaacccccccccccaaacccccaaaccccccccccaaaaaaccccccccaacaacccccccccccccccaaaaccccccccccc█iioooooojjhhhhpp███hhaaaaaccccc', 'abacccccccccccccccccccaaaaaaccaaaaacccaaaaaaaacccccccccccaaaaaaccaacccccccccccccccaaccccccccacccccccccccccccccccaaaaccccccccccc█ii██████oooopppppp██iaaaaaacccc', 'abaccccccccccaaaaaccccaaaaaaaaaaaaccccaaaaaaaacccccccccaaaaaaaaccccccccccccaaaaccccccccccccaaacccccccccccccccccccaaccccccccccc██i██oouu██████████pp█iaaaaaacccc', 'abcccccccccccaaaaaccccaaacaaaaccaacccccccaaccccccccccccaaaaaaaaccccccccccccaaaaccccccccaaacaaacccccccccccccccccccccccccccccccc█ii█notuuuuoopuuuu██p█iaaacaccccc', 'abccccccccccaaaaaacccca██████████████████aaccccccccccccaaaaaaacccccccaaacccaaaaccccccccaaaaaaaaaacccaacccccccccccccccccccccccc█ii█n██████uuuuuuuu█p█iiaaccccccc', 'abaaccccccccaaaaaa██████ccccccccccccaaaa██████████cccccccaaaaaacccccaaaaccccaaccccccccccaaaaaaaaacccaaacaaacaaaccccccccccaaccc█ii█n█ttxx███████uu█p█iiccccccccc', 'abaacccccccccaaaaa█cccccccccccccccccaaaacccccccca██ccccccaaaaaacccccaaaaccccccccccccccccccaaaaacccccaaaaaaacaaaacccccccccaaaa██ii█n█txxxxuuyyy█vv█p█iiccccccccc', 'abaacccccccccaaa███cccccccccccccccccaaaaccaaacaaaa█ccccccaaccccccccccaaacccccccccccccccccaaaaaaccccccaaaaaacaaaacccccccccaaaa█ii██n█txxxxxxyyy█vp█q█iiccccccccc', 'aba██████████████ccccccaaccccccccccccaacccaaaaaaaa███ccccccccccccccccccccccccccccccccaacaaaaaaacccaaaaaaaaccaaaccccccccaaaaa██hi█nn█ttxxxxxyyy█vq█q█iiccccccccc', '████cccccccccccccccccaaaaaaccccccccccccccccaaaaaaaaa█cccccccccccccccccccccccccccccaaaaaaaaacaaacccaaaaaaaaaccccccccccccaaaaa█hh██n██ttxxxxyyyv█vq█q██iccccccccc', '█bcccccccccccccccccccaaaaaaccccccccccccccccaaaaaaaaa█cccccccccccccccccccccccccccccaaaaacccccccacccaaaaaaaaaacccccccccccccaah█hn█nt█txxx██zzyyy██v██q██jcccccccc', 'abcccccccccccccccccccaaaaacccccccccccccaaaaaaaaaaaac██████████ccccccccccccccccccccaaaaaaaccccccccccccaaacaaacccccccccccccahh█mm█tt█xx████yyyyyy█vv█qq█jjccccccc', 'abccccccccccccccccccccaaaaacccccccccaacaaaaaaaaaaaaccccaccaaa███████████cccccccccaaaaaaaaccccccccccccaaacccccccccccccaaccahh█mm█tt█xx█yywyyyyyy█vv█qq█jjccccccc', 'abccccccccccccccccccccaaaaacccccccccaaaaaaaacaaacccccccaaaaaaccccaccaaa█cccccccccaaaaaaaaccccccccccccaacccccccccccccaaaccchh█mm█ss█xx███yyywyyv█vv█qq█jjccccccc', 'abccaacccccccccccccccccccccccccccccccaaaaaaccaaacccccccaaaaaaccccaacaaa█ccccccccccacaaacccccccccccccccccccccccccaaaaaaaccchh█mm█ss███ww██yyw████vv█qq█jjdcccccc', 'abccaaaccaaccccccccccccccccccccccccaaaaaaaaccaaccccccccaaaaaaacccaaaaac█████████████aaacccccccccccccccccccccccccaaaaaaaaaahh█mm██sss███w█yw██rvvqq█qq█jjdddcccc', 'abccaaaaaaacccccaaaccccccccccccccccaaaaacaacccccccccccaaaaaaaaccccaaaaaaccccccccaaa█cccccccccccccccccccccccccccccaaaaaaaaahh██mm███sss█w████rrrr███qj█jjdddcccc', 'abcccaaaaaacccccaaacacccccccccccccccccaaaccaacccccccccaaaaaaaaccaaaaaaaacaaccccaaaa███████████████████████████ccccaaaaaaaccgg██mmm███s██wwwwr████kjjj█jddddcccc', 'abaaaaaaaaccccaacaaaaaccccaaacccccccccaaaccaaccccccccccccaaaccccaaaaacaaaaaccccaaaacccccccccccaacccccccccccaa██ccaaaaaacccccgg███mmm██s██wwrr█kkkkk███ddddacccc', 'abaaaaaaaaacccaaaaaaaaccccaaaacccccccccaaaaaaccccccccccccaaacccccccaacccaaacaaacaaaccccccccccaaaacccccccaaaaaa█ccaaaaaaacccccggg███ll█ss██████k█████dddddaacccc', 'abaaaaaaaaaacccaaaaaccccccaaaaccccccccccaaaaaaaccccccaaccccccccccccaaaaaaaaaaaaccccccccccccccaaaacccccccaaaaac██caaccaaacccccccggg██l██srrrrrk██eeedddddaaccccc', 'abaacaaaaaaaccccaaaaacccccaaaccccccccccccaaaaaaccccaaaaccccccccccccccaaaaaaaaacccccccccccccccaaaacccccccaaaaaaa█ccccccaacccccccccgg██l██rrrrk██eee███daaaaccccc', 'abaaaaaacccccccaaacaacccccccccccccccccccaaaaaccccccaaaaaaccccccccaaacccaaaaacccccccccccccccccccccccccccaaaaaaaa██████████████cccccgg█ll███████ee█████aaaaaacccc', 'abaaaaacccccccccaacccccccccccccccccccccaaaaaacccccccaaaacccccacccaaccccaaaaaaccccccccccccccccccccccccccaaaaaaaacccccccccccaa█ccccccf██lllllkkke█████caaaaaacccc', 'abaaaaacccccccccccccccccccccccccccaacccccccaaccccccaaaaacccccaaaaaaaccaaaaaaaaaaccccccccccccccccccccccccacaaacccccccccaaccaa█cccccccf██llllkeee███cccaacccccccc', 'abaaaacccccccccccccccccccccccccccaaacccccccccccccccaacaacccccaaaaaaccaaaaacaaaaaccccccccccccccccccccccccccaaacccccccccaaaaaa███cccccff███████████cccccccccccccc', 'abaaaccccccccccccccccccccccccccccaaaaacacccccccccccccccccccccaaaaaaaaaaaaccaaaaaaaaccccccaaccccccccccaaaaacccccccccccccaaaaaaa█ccccccfffffffeeaa█cccccccccccaaa', 'abaacccccaacaacccccccccccccaacaaaaaaaaaacccccccaaccccccccccccaaaaaaaaaaacccaaaaaaaacccccaaacaacccccccaaaaaccccccccccaaccaaaaaa█cccccccafffffeaa██cccccccccccaaa', 'abaaaccccaaaaacccccccccccccaacaaaaaaaaaaccccccaaaccccccccccccaaaaaaaaaaaccccaaaaaccccccccaaaaaccccccaaaaaacccccccaacaaaaaaaacc█cccccccaaa███████ccccccccccccaaa', 'abccccccccaaaaacccccccccaaaaaaaaaaaaaacccccaaaaacaaccccccaaaaaaaaaaaaaaaaaaaaaaaaacccccaaaaaacccccccaaaaaacccccccaaaaaaaacaacc█cccccccaaa█cccccccccccccccaaaaaa', 'abcccccccaaaaaacccccccccaaaaaaaaaaaaaacccccaaaaaaaaccccccaaaaacaaaaaaaaaaaaaaaaaaacccccaaaaaaaacccccaaaaaaccccccaaaaaaaaccaacc████████████cccccccccccccccaaaaaa']\n"
     ]
    }
   ],
   "source": [
    "from copy import deepcopy\n",
    "\n",
    "path_grid = deepcopy(GRID)\n",
    "\n",
    "for coord in p1_shortest_path:\n",
    "    path_grid[coord] = \"█\"\n",
    "\n",
    "grid_strings = []\n",
    "for y in range(len(q_input)):\n",
    "    line = \"\"\n",
    "    for x in range(len(q_input[0])):\n",
    "       line += path_grid[Coord(x,y)]\n",
    "    grid_strings.append(line) \n",
    "\n",
    "print(list(reversed(grid_strings)))\n",
    "    "
   ]
  },
  {
   "cell_type": "code",
   "execution_count": 117,
   "metadata": {},
   "outputs": [
    {
     "name": "stdout",
     "output_type": "stream",
     "text": [
      "447\n"
     ]
    }
   ],
   "source": [
    "distances = []\n",
    "for y in range(len(q_input)):\n",
    "    distances.append(len(bfs(Coord(0,y))))\n",
    "\n",
    "print(min(distances))"
   ]
  }
 ],
 "metadata": {
  "kernelspec": {
   "display_name": "Python 3.9.5 64-bit",
   "language": "python",
   "name": "python3"
  },
  "language_info": {
   "codemirror_mode": {
    "name": "ipython",
    "version": 3
   },
   "file_extension": ".py",
   "mimetype": "text/x-python",
   "name": "python",
   "nbconvert_exporter": "python",
   "pygments_lexer": "ipython3",
   "version": "3.9.5"
  },
  "orig_nbformat": 4,
  "vscode": {
   "interpreter": {
    "hash": "5790115e099f1e89db1d8e41205cd652b887ead311308f4792fb95232825540e"
   }
  }
 },
 "nbformat": 4,
 "nbformat_minor": 2
}
