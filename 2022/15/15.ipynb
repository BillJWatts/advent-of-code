{
 "cells": [
  {
   "cell_type": "code",
   "execution_count": 4,
   "metadata": {},
   "outputs": [],
   "source": [
    "with open(\"15.txt\") as i:\n",
    "    q_input = i.read().splitlines()"
   ]
  },
  {
   "cell_type": "code",
   "execution_count": 3,
   "metadata": {},
   "outputs": [],
   "source": [
    "from dataclasses import dataclass\n",
    "\n",
    "@dataclass\n",
    "class Coord:\n",
    "    x: int\n",
    "    y: int\n",
    "    def __add__(self, other):\n",
    "        return Coord(self.x + other.x, self.y + other.y)\n",
    "    def __sub__(self, other):\n",
    "        return Coord(self.x - other.x, self.y - other.y)\n",
    "    def __hash__(self):\n",
    "        return hash((self.x, self.y))\n",
    "\n",
    "GRID = {}\n",
    "SCANNED = \"#\"\n",
    "BEACON = \"B\"\n",
    "SENSOR = \"S\"\n",
    "P1_ROW = 10\n",
    "#P1_ROW = 2_000_000\n",
    "\n",
    "def fill_scan(sensor, dis, p1_row_dis):\n",
    "    scan_widths = {row: dis - abs(row) for row in range(-dis,dis+1)}\n",
    "    half_width = scan_widths[p1_row_dis]\n",
    "    scan_row = sensor.y + p1_row_dis\n",
    "    row_scan_coords=[Coord(x,scan_row) for x in range(sensor.x-half_width,sensor.x+half_width+1)]\n",
    "    #print(row_scan_coords)\n",
    "    for coord in row_scan_coords:\n",
    "        grid_pos = GRID.get(coord,None)\n",
    "        if grid_pos:\n",
    "            continue\n",
    "        GRID[coord]=SCANNED\n",
    "\n",
    "def is_needed_sensor(sensor,dis):\n",
    "    for row in range(-dis,dis+1):\n",
    "        if sensor.y + row == P1_ROW:\n",
    "            return True, row\n",
    "    return False, None\n",
    "\n",
    "def manhatten_distance(coord1, coord2):\n",
    "    vector = coord2 - coord1\n",
    "    return abs(vector.x)+abs(vector.y)"
   ]
  },
  {
   "cell_type": "code",
   "execution_count": 144,
   "metadata": {},
   "outputs": [
    {
     "name": "stdout",
     "output_type": "stream",
     "text": [
      "40\n"
     ]
    }
   ],
   "source": [
    "GRID={}\n",
    "sensor_info={}\n",
    "for line in q_input:\n",
    "    line = line[12:]\n",
    "    sensor_string, beacon_string = line.split(\": closest beacon is at x=\")\n",
    "    sx, sy = sensor_string.split(\", y=\")\n",
    "    bx, by = beacon_string.split(\", y=\")\n",
    "    sensor_pos = Coord(int(sx),int(sy))\n",
    "    beacon_pos = Coord(int(bx),int(by))\n",
    "    GRID[sensor_pos]=SENSOR\n",
    "    GRID[beacon_pos]=BEACON\n",
    "    sensor_info[sensor_pos]=manhatten_distance(sensor_pos, beacon_pos)\n",
    "\n",
    "print(len(sensor_info))"
   ]
  },
  {
   "cell_type": "code",
   "execution_count": 145,
   "metadata": {},
   "outputs": [],
   "source": [
    "needed_sensors = {}\n",
    "for sensor,distance in sensor_info.items():\n",
    "    sensor_is_needed, p1_row_dis = is_needed_sensor(sensor,distance)\n",
    "    if sensor_is_needed:\n",
    "        needed_sensors[sensor]=(distance,p1_row_dis)"
   ]
  },
  {
   "cell_type": "code",
   "execution_count": 146,
   "metadata": {},
   "outputs": [
    {
     "name": "stdout",
     "output_type": "stream",
     "text": [
      "Filling scan from:  Coord(x=1112863, y=496787)\n",
      "Filling scan from:  Coord(x=760990, y=1455625)\n",
      "Filling scan from:  Coord(x=2888433, y=2337157)\n",
      "Filling scan from:  Coord(x=3423261, y=2191958)\n",
      "Filling scan from:  Coord(x=139591, y=1186912)\n",
      "Filling scan from:  Coord(x=1849154, y=1377259)\n",
      "Filling scan from:  Coord(x=3811778, y=1370280)\n",
      "Filling scan from:  Coord(x=3963152, y=2368927)\n",
      "Filling scan from:  Coord(x=952643, y=2385401)\n",
      "Filling scan from:  Coord(x=2306388, y=1932261)\n",
      "Filling scan from:  Coord(x=1549467, y=3109269)\n",
      "Filling scan from:  Coord(x=1189516, y=2153239)\n",
      "Filling scan from:  Coord(x=468190, y=1889204)\n",
      "Filling scan from:  Coord(x=270403, y=2762568)\n"
     ]
    }
   ],
   "source": [
    "#Takes 20 sec!\n",
    "for sensor,(b_dis,p1_row_dis) in needed_sensors.items():\n",
    "    print(\"Filling scan from: \", sensor)\n",
    "    fill_scan(sensor, b_dis, p1_row_dis)"
   ]
  },
  {
   "cell_type": "code",
   "execution_count": 148,
   "metadata": {},
   "outputs": [
    {
     "name": "stdout",
     "output_type": "stream",
     "text": [
      "Part 1: 5073496\n"
     ]
    }
   ],
   "source": [
    "p1_row_count = 0\n",
    "for coord, val in GRID.items():\n",
    "    if coord.y == P1_ROW:\n",
    "        if val == SCANNED or val == SENSOR:\n",
    "            p1_row_count +=1\n",
    "print(\"Part 1:\", p1_row_count)"
   ]
  },
  {
   "attachments": {},
   "cell_type": "markdown",
   "metadata": {},
   "source": [
    "# MY PART ONE METHOD WAS TERRIBLE\n",
    "\n",
    "Basically unusable for part 2\n",
    "\n",
    "# Part Two"
   ]
  },
  {
   "cell_type": "code",
   "execution_count": 16,
   "metadata": {},
   "outputs": [
    {
     "name": "stdout",
     "output_type": "stream",
     "text": [
      "40\n"
     ]
    }
   ],
   "source": [
    "GRID={}\n",
    "BOUND = 4000000\n",
    "\n",
    "sensor_info={}\n",
    "for line in q_input:\n",
    "    line = line[12:]\n",
    "    sensor_string, beacon_string = line.split(\": closest beacon is at x=\")\n",
    "    sx, sy = sensor_string.split(\", y=\")\n",
    "    bx, by = beacon_string.split(\", y=\")\n",
    "    sensor_pos = Coord(int(sx),int(sy))\n",
    "    beacon_pos = Coord(int(bx),int(by))\n",
    "    GRID[sensor_pos]=SENSOR\n",
    "    GRID[beacon_pos]=BEACON\n",
    "    sensor_info[sensor_pos]=manhatten_distance(sensor_pos, beacon_pos)\n",
    "\n",
    "print(len(sensor_info))"
   ]
  },
  {
   "cell_type": "code",
   "execution_count": 17,
   "metadata": {},
   "outputs": [
    {
     "name": "stdout",
     "output_type": "stream",
     "text": [
      "Part 2: 13081194638237\n"
     ]
    }
   ],
   "source": [
    "class ScanRange():\n",
    "    scan_ranges: list\n",
    "\n",
    "    def __init__(self):\n",
    "        self.scan_ranges = []\n",
    "\n",
    "    def append(self, new_range):\n",
    "        self.scan_ranges.sort()\n",
    "        # print(self.scan_ranges)\n",
    "        # print(new_range)\n",
    "        new_start, new_end = new_range\n",
    "        new_scan_ranges = []\n",
    "        for start, end in self.scan_ranges:\n",
    "\n",
    "            # Contains current range, ignore it\n",
    "            if new_start <= start and new_end >= end:\n",
    "                continue\n",
    "\n",
    "            # Overlaps (right)\n",
    "            elif new_start <= end+1 and new_end > end:\n",
    "                new_start = start\n",
    "\n",
    "            # Overlaps (left)\n",
    "            elif new_end >= start-1 and new_start < start:\n",
    "                new_end = end\n",
    "\n",
    "            # New range is contained, expand out\n",
    "            elif new_start >= start and new_end <= end:\n",
    "                new_start = start\n",
    "                new_end = end\n",
    "\n",
    "            # No overlap, add range\n",
    "            else:\n",
    "                new_scan_ranges.append((start,end))\n",
    "                \n",
    "        new_scan_ranges.append((new_start,new_end))\n",
    "        self.scan_ranges=new_scan_ranges\n",
    "        self.scan_ranges.sort()\n",
    "        \n",
    "scan_ranges_list = []\n",
    "\n",
    "for y in range(BOUND+1):\n",
    "    scan_range = ScanRange()\n",
    "    for sensor, man_dis in sensor_info.items():\n",
    "        row_distance = y-sensor.y\n",
    "        half_width = man_dis - abs(row_distance)\n",
    "        if half_width >= 0:\n",
    "            start = sensor.x - half_width\n",
    "            end = sensor.x + half_width\n",
    "            scanned_range = (start,end)\n",
    "            scan_range.append(scanned_range)\n",
    "    scan_ranges_list.append(scan_range)\n"
   ]
  },
  {
   "cell_type": "code",
   "execution_count": 20,
   "metadata": {},
   "outputs": [
    {
     "name": "stdout",
     "output_type": "stream",
     "text": [
      "Part 2: 13081194638237\n"
     ]
    }
   ],
   "source": [
    "distress_beacon = None\n",
    "for i, scan in enumerate(scan_ranges_list):\n",
    "    if len(scan.scan_ranges)==1:\n",
    "        start,end=scan.scan_ranges[0]\n",
    "        if start <= 0 and end >= BOUND:\n",
    "            continue\n",
    "        elif start > 0:\n",
    "            distress_beacon = (0,i)\n",
    "        elif end <= BOUND:\n",
    "            distress_beacon = (BOUND,i)\n",
    "    else:\n",
    "        x = scan.scan_ranges[0][1] + 1\n",
    "        distress_beacon = (x,i)\n",
    "\n",
    "print(\"Part 2:\", distress_beacon[0]*4000000 + distress_beacon[1])"
   ]
  }
 ],
 "metadata": {
  "kernelspec": {
   "display_name": "Python 3.9.5 64-bit",
   "language": "python",
   "name": "python3"
  },
  "language_info": {
   "codemirror_mode": {
    "name": "ipython",
    "version": 3
   },
   "file_extension": ".py",
   "mimetype": "text/x-python",
   "name": "python",
   "nbconvert_exporter": "python",
   "pygments_lexer": "ipython3",
   "version": "3.9.5"
  },
  "orig_nbformat": 4,
  "vscode": {
   "interpreter": {
    "hash": "5790115e099f1e89db1d8e41205cd652b887ead311308f4792fb95232825540e"
   }
  }
 },
 "nbformat": 4,
 "nbformat_minor": 2
}
