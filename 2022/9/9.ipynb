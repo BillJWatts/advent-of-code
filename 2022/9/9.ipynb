{
 "cells": [
  {
   "cell_type": "code",
   "execution_count": 130,
   "metadata": {},
   "outputs": [],
   "source": [
    "with open(\"9.txt\") as i:\n",
    "    q_input = i.read().splitlines()"
   ]
  },
  {
   "cell_type": "code",
   "execution_count": 131,
   "metadata": {},
   "outputs": [],
   "source": [
    "from dataclasses import dataclass\n",
    "\n",
    "@dataclass\n",
    "class Coord:\n",
    "    x: int\n",
    "    y: int\n",
    "\n",
    "    def __add__(self, other):\n",
    "        return Coord(self.x + other.x, self.y + other.y)\n",
    "    def __sub__(self, other):\n",
    "        return Coord(self.x - other.x, self.y - other.y)\n",
    "\n",
    "    def __hash__(self):\n",
    "        return hash((self.x, self.y))\n",
    "\n",
    "def parse_head_move(move):\n",
    "    move = move.split()\n",
    "    direction = move[0]\n",
    "    distance = int(move[-1])\n",
    "    #UP\n",
    "    if move[0] == \"U\":\n",
    "        return [Coord(0,1) for _ in range(distance)]\n",
    "    #DOWN\n",
    "    if move[0] == \"D\":\n",
    "        return [Coord(0,-1) for _ in range(distance)]\n",
    "    #LEFT\n",
    "    if move[0] == \"L\":\n",
    "        return [Coord(-1,0) for _ in range(distance)]\n",
    "    #RIGHT\n",
    "    if move[0] == \"R\":\n",
    "        return [Coord(1,0) for _ in range(distance)]\n",
    "\n",
    "def calculate_tail_move(head_distance):\n",
    "    x = head_distance.x\n",
    "    y = head_distance.y\n",
    "    return Coord(\n",
    "        x // abs(x) if x else 0, \n",
    "        y // abs(y) if y else 0,\n",
    "        )\n",
    "\n",
    "import math\n",
    "def absolute_distance(coord_distance):\n",
    "    return round(math.sqrt((coord_distance.x**2) + (coord_distance.y**2)))"
   ]
  },
  {
   "cell_type": "code",
   "execution_count": 136,
   "metadata": {},
   "outputs": [
    {
     "name": "stdout",
     "output_type": "stream",
     "text": [
      "Part 1: 6745\n"
     ]
    }
   ],
   "source": [
    "\n",
    "start = Coord(0,0)\n",
    "head_pos = start\n",
    "tail_pos = start\n",
    "tail_history = set()\n",
    "tail_history.add(tail_pos)\n",
    "\n",
    "for move_string in q_input:\n",
    "    move_set = parse_head_move(move_string)\n",
    "\n",
    "    for move in move_set:\n",
    "        head_pos += move\n",
    "        head_distance = head_pos - tail_pos\n",
    "        if absolute_distance(head_distance) >= 2:\n",
    "            tail_pos += calculate_tail_move(head_distance)\n",
    "            tail_history.add(tail_pos)\n",
    "\n",
    "print(\"Part 1:\", len(tail_history))"
   ]
  },
  {
   "cell_type": "code",
   "execution_count": 137,
   "metadata": {},
   "outputs": [
    {
     "name": "stdout",
     "output_type": "stream",
     "text": [
      "Part 2: 2793\n"
     ]
    }
   ],
   "source": [
    "\n",
    "start = Coord(0,0)\n",
    "ROPE = [start for _ in range(10)]\n",
    "head_pos = start\n",
    "tail_pos = start\n",
    "tail_history = set()\n",
    "tail_history.add(tail_pos)\n",
    "\n",
    "for move_string in q_input:\n",
    "    move_set = parse_head_move(move_string)\n",
    "\n",
    "    for move in move_set:\n",
    "        ROPE[0] += move\n",
    "        for i in range(1,10):\n",
    "            distance = ROPE[i-1] - ROPE[i]\n",
    "            if absolute_distance(distance) >= 2:\n",
    "                ROPE[i] += calculate_tail_move(distance)\n",
    "        tail_history.add(ROPE[-1])\n",
    "\n",
    "print(\"Part 2:\", len(tail_history))"
   ]
  }
 ],
 "metadata": {
  "kernelspec": {
   "display_name": "Python 3",
   "language": "python",
   "name": "python3"
  },
  "language_info": {
   "codemirror_mode": {
    "name": "ipython",
    "version": 3
   },
   "file_extension": ".py",
   "mimetype": "text/x-python",
   "name": "python",
   "nbconvert_exporter": "python",
   "pygments_lexer": "ipython3",
   "version": "3.9.7"
  },
  "orig_nbformat": 4,
  "vscode": {
   "interpreter": {
    "hash": "a511de0016204366886b046cb8e6aa6393ff136f96d9ef8c596cc7120cc24845"
   }
  }
 },
 "nbformat": 4,
 "nbformat_minor": 2
}
