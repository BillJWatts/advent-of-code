{
 "cells": [
  {
   "cell_type": "code",
   "execution_count": 6,
   "metadata": {},
   "outputs": [],
   "source": [
    "with open(\"1-1.txt\") as i:\n",
    "    q_input = i.read().splitlines()"
   ]
  },
  {
   "cell_type": "code",
   "execution_count": 18,
   "metadata": {},
   "outputs": [
    {
     "name": "stdout",
     "output_type": "stream",
     "text": [
      "67027\n"
     ]
    }
   ],
   "source": [
    "\n",
    "max_cal = 0\n",
    "current_elf_cals = 0\n",
    "\n",
    "for i, cal in enumerate(q_input):\n",
    "    if cal:\n",
    "        cal = int(cal)\n",
    "        current_elf_cals += cal\n",
    "    elif current_elf_cals > max_cal:\n",
    "        max_cal = current_elf_cals\n",
    "        current_elf_cals = 0\n",
    "    else:\n",
    "        current_elf_cals = 0\n",
    "\n",
    "print(max_cal)"
   ]
  }
 ],
 "metadata": {
  "kernelspec": {
   "display_name": "Python 3.9.5 64-bit",
   "language": "python",
   "name": "python3"
  },
  "language_info": {
   "codemirror_mode": {
    "name": "ipython",
    "version": 3
   },
   "file_extension": ".py",
   "mimetype": "text/x-python",
   "name": "python",
   "nbconvert_exporter": "python",
   "pygments_lexer": "ipython3",
   "version": "3.9.5"
  },
  "orig_nbformat": 4,
  "vscode": {
   "interpreter": {
    "hash": "5790115e099f1e89db1d8e41205cd652b887ead311308f4792fb95232825540e"
   }
  }
 },
 "nbformat": 4,
 "nbformat_minor": 2
}
