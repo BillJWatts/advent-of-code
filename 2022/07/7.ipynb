{
 "cells": [
  {
   "cell_type": "code",
   "execution_count": 1,
   "metadata": {},
   "outputs": [],
   "source": [
    "with open(\"7.txt\") as i:\n",
    "    q_input = i.read().splitlines()"
   ]
  },
  {
   "cell_type": "code",
   "execution_count": 98,
   "metadata": {},
   "outputs": [],
   "source": [
    "\n",
    "class Command:\n",
    "    def __init__(self, command):\n",
    "        flags = command.split()\n",
    "        self.operator = flags[1]\n",
    "        if self.operator == \"cd\":\n",
    "            self.target = flags[2]\n",
    "        else:\n",
    "             self.target = None\n",
    "\n",
    "class File:\n",
    "    def __init__(self, flags):\n",
    "        self.size = int(flags[0])\n",
    "        self.name = flags[1]\n",
    "        self.parent = None\n",
    "    \n",
    "    def __str__(self):\n",
    "        return f\"File: {self.name}  Size: {self.size}\"\n",
    "    def __repr__(self):\n",
    "        return f\"File: {self.name}  Size: {self.size}\"\n",
    "\n",
    "\n",
    "class Dir:\n",
    "    def __init__(self, flags):\n",
    "        self.name = flags[1]\n",
    "        self.items = []\n",
    "        self.parent = None\n",
    "    \n",
    "    def add(self, item):\n",
    "        item.parent = self\n",
    "        self.items.append(item)\n",
    "\n",
    "    def get_dir(self, dir_name):\n",
    "        for item in self.items:\n",
    "            if isinstance(item, Dir) and item.name == dir_name:\n",
    "                return item\n",
    "    \n",
    "    @property\n",
    "    def size(self):\n",
    "        size = 0\n",
    "        for item in self.items:\n",
    "            size += item.size\n",
    "        \n",
    "        return size\n",
    "    \n",
    "    def __str__(self):\n",
    "        return f\"Directory: {self.name}  Size: {self.size}\"\n",
    "    def __repr__(self):\n",
    "        return f\"Directory: {self.name}  Size: {self.size}\"\n",
    "    def __lt__(self, other):\n",
    "        return self.size < other.size\n",
    "\n",
    "def parse_line(line):\n",
    "    if line[0] == \"$\":\n",
    "        return Command(line)\n",
    "    else:\n",
    "        flags = line.split()\n",
    "        if flags[0].isnumeric():\n",
    "            return File(flags)\n",
    "        else:\n",
    "            return Dir(flags)\n",
    "\n",
    "    "
   ]
  },
  {
   "cell_type": "code",
   "execution_count": 103,
   "metadata": {},
   "outputs": [
    {
     "name": "stdout",
     "output_type": "stream",
     "text": [
      "Part 1: 1077191\n",
      "Part 2: Directory: hdh  Size: 5649896\n"
     ]
    }
   ],
   "source": [
    "BASE_DIR = Dir([\"dir\",\"/\"])\n",
    "\n",
    "def change_dir(cwd, target):\n",
    "    if target == \"/\":\n",
    "        return BASE_DIR\n",
    "    elif target == \"..\":\n",
    "        return cwd.parent\n",
    "    else:\n",
    "        return cwd.get_dir(target)\n",
    "\n",
    "cwd: Dir = None\n",
    "for line in q_input:\n",
    "    line = parse_line(line)\n",
    "    if isinstance(line, Command):\n",
    "        if line.target:\n",
    "            cwd = change_dir(cwd, line.target)\n",
    "            continue\n",
    "        else: continue\n",
    "    cwd.add(line)\n",
    "\n",
    "all_dirs = []\n",
    "\n",
    "def get_sum(directory):\n",
    "    total = 0\n",
    "    for item in directory.items:\n",
    "        if isinstance(item, File):\n",
    "            continue\n",
    "        elif item.size < 100000:\n",
    "            total += item.size\n",
    "        all_dirs.append(item)\n",
    "        total += get_sum(item)\n",
    "    return total\n",
    "\n",
    "print(f\"Part 1: {get_sum(BASE_DIR)}\")\n",
    "\n",
    "total_size = sum([item.size for item in BASE_DIR.items])\n",
    "minimum_size = 30000000 - (70000000 - total_size)\n",
    "\n",
    "all_dirs.sort()\n",
    "\n",
    "print(f\"Part 2: {[directory for directory in all_dirs if directory.size > minimum_size][0]}\")"
   ]
  }
 ],
 "metadata": {
  "kernelspec": {
   "display_name": "Python 3.9.5 64-bit",
   "language": "python",
   "name": "python3"
  },
  "language_info": {
   "codemirror_mode": {
    "name": "ipython",
    "version": 3
   },
   "file_extension": ".py",
   "mimetype": "text/x-python",
   "name": "python",
   "nbconvert_exporter": "python",
   "pygments_lexer": "ipython3",
   "version": "3.9.5"
  },
  "orig_nbformat": 4,
  "vscode": {
   "interpreter": {
    "hash": "5790115e099f1e89db1d8e41205cd652b887ead311308f4792fb95232825540e"
   }
  }
 },
 "nbformat": 4,
 "nbformat_minor": 2
}
