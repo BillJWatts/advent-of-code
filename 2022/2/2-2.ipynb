{
 "cells": [
  {
   "cell_type": "code",
   "execution_count": 2,
   "metadata": {},
   "outputs": [],
   "source": [
    "with open(\"2-2.txt\") as i:\n",
    "    q_input = i.read().splitlines()"
   ]
  },
  {
   "cell_type": "code",
   "execution_count": 3,
   "metadata": {},
   "outputs": [],
   "source": [
    "ROCK=\"Rock\"\n",
    "PAPER = \"Paper\"\n",
    "SCISSORS = \"Scissors\"\n",
    "\n",
    "hands = {\n",
    "    \"A\":ROCK,\n",
    "    \"B\":PAPER,\n",
    "    \"C\":SCISSORS,\n",
    "}\n",
    "\n",
    "WIN = \"Z\"\n",
    "DRAW = \"Y\"\n",
    "LOSE = \"X\"\n",
    "\n",
    "values = {ROCK:1, PAPER:2, SCISSORS:3}\n",
    "\n",
    "def get_result(myself, opponent):\n",
    "    # From the perspective of myself\n",
    "    if myself == opponent:\n",
    "        return 3\n",
    "    elif myself == ROCK:\n",
    "        if opponent == SCISSORS:\n",
    "            return 6\n",
    "        return 0\n",
    "    elif myself == SCISSORS:\n",
    "        if opponent == PAPER:\n",
    "            return 6\n",
    "        return 0\n",
    "    elif myself == PAPER:\n",
    "        if opponent == ROCK:\n",
    "            return 6\n",
    "        return 0\n",
    "\n",
    "def get_play(opp, strat):\n",
    "    if strat == DRAW:\n",
    "        return opp\n",
    "    elif strat == WIN:\n",
    "        if opp == ROCK:\n",
    "            return PAPER\n",
    "        elif opp == PAPER:\n",
    "            return SCISSORS\n",
    "        return ROCK\n",
    "    elif strat == LOSE:\n",
    "        if opp == ROCK:\n",
    "            return SCISSORS\n",
    "        elif opp == PAPER:\n",
    "            return ROCK\n",
    "        return PAPER"
   ]
  },
  {
   "cell_type": "code",
   "execution_count": 5,
   "metadata": {},
   "outputs": [
    {
     "name": "stdout",
     "output_type": "stream",
     "text": [
      "13433\n"
     ]
    }
   ],
   "source": [
    "total_score = 0\n",
    "\n",
    "for line in q_input:\n",
    "    opp, strat = line.split()\n",
    "    opp = hands[opp]\n",
    "    play = get_play(opp, strat)\n",
    "    result = get_result(play, opp)\n",
    "    play_val = values[play]\n",
    "    total_score += result + play_val\n",
    "\n",
    "print(total_score)"
   ]
  }
 ],
 "metadata": {
  "kernelspec": {
   "display_name": "Python 3.9.5 64-bit",
   "language": "python",
   "name": "python3"
  },
  "language_info": {
   "codemirror_mode": {
    "name": "ipython",
    "version": 3
   },
   "file_extension": ".py",
   "mimetype": "text/x-python",
   "name": "python",
   "nbconvert_exporter": "python",
   "pygments_lexer": "ipython3",
   "version": "3.9.5"
  },
  "orig_nbformat": 4,
  "vscode": {
   "interpreter": {
    "hash": "5790115e099f1e89db1d8e41205cd652b887ead311308f4792fb95232825540e"
   }
  }
 },
 "nbformat": 4,
 "nbformat_minor": 2
}
