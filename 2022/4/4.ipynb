{
 "cells": [
  {
   "cell_type": "code",
   "execution_count": 1,
   "metadata": {},
   "outputs": [],
   "source": [
    "with open(\"4.txt\") as i:\n",
    "    q_input = i.read().splitlines()"
   ]
  },
  {
   "cell_type": "code",
   "execution_count": 12,
   "metadata": {},
   "outputs": [
    {
     "data": {
      "text/plain": [
       "562"
      ]
     },
     "execution_count": 12,
     "metadata": {},
     "output_type": "execute_result"
    }
   ],
   "source": [
    "# each elf gets a number of section ids\n",
    "# x.issubset(y)\n",
    "# y.issuperset(x)\n",
    "\n",
    "#range(a,b+1)\n",
    "\n",
    "def get_section_sets(str):\n",
    "    x, y = pair.split(\",\")\n",
    "    x_low, x_high = x.split(\"-\")\n",
    "    y_low, y_high = y.split(\"-\")\n",
    "\n",
    "    return (\n",
    "        set(list(range(int(x_low),int(x_high)+1))), \n",
    "        set(list(range(int(y_low), int(y_high)+1)))\n",
    "        )\n",
    "\n",
    "subset_count = 0\n",
    "\n",
    "for pair in q_input:\n",
    "    e_s_1, e_s_2 = get_section_sets(pair)\n",
    "    \n",
    "    if e_s_1.issubset(e_s_2):\n",
    "        subset_count += 1\n",
    "    elif e_s_2.issubset(e_s_1):\n",
    "        subset_count += 1\n",
    "\n",
    "print(subset_count)\n",
    "\n"
   ]
  },
  {
   "cell_type": "code",
   "execution_count": 13,
   "metadata": {},
   "outputs": [
    {
     "name": "stdout",
     "output_type": "stream",
     "text": [
      "924\n"
     ]
    }
   ],
   "source": [
    "intersect_count = 0\n",
    "\n",
    "for pair in q_input:\n",
    "    e_s_1, e_s_2 = get_section_sets(pair)\n",
    "\n",
    "    if e_s_1.intersection(e_s_2):\n",
    "        intersect_count += 1\n",
    "\n",
    "print(intersect_count)\n",
    "    "
   ]
  }
 ],
 "metadata": {
  "kernelspec": {
   "display_name": "Python 3.9.5 64-bit",
   "language": "python",
   "name": "python3"
  },
  "language_info": {
   "codemirror_mode": {
    "name": "ipython",
    "version": 3
   },
   "file_extension": ".py",
   "mimetype": "text/x-python",
   "name": "python",
   "nbconvert_exporter": "python",
   "pygments_lexer": "ipython3",
   "version": "3.9.5"
  },
  "orig_nbformat": 4,
  "vscode": {
   "interpreter": {
    "hash": "5790115e099f1e89db1d8e41205cd652b887ead311308f4792fb95232825540e"
   }
  }
 },
 "nbformat": 4,
 "nbformat_minor": 2
}
