{
 "cells": [
  {
   "cell_type": "code",
   "execution_count": 1,
   "metadata": {},
   "outputs": [],
   "source": [
    "with open(\"3.txt\") as i:\n",
    "    q_input = i.read().splitlines()"
   ]
  },
  {
   "cell_type": "code",
   "execution_count": 27,
   "metadata": {},
   "outputs": [
    {
     "name": "stdout",
     "output_type": "stream",
     "text": [
      "7903\n"
     ]
    }
   ],
   "source": [
    "priority_sum = 0\n",
    "\n",
    "for rucksack in q_input:\n",
    "    size = len(rucksack)\n",
    "    comp1 = slice(0, size//2)\n",
    "    comp2 = slice(size//2, size)\n",
    "    error_items=list(set(rucksack[comp1])&set(rucksack[comp2]))\n",
    "    #print(error_items)\n",
    "    err_item = error_items[0]\n",
    "    if err_item.isupper():\n",
    "        priority_sum += ord(err_item) - 38\n",
    "    elif err_item.islower():\n",
    "        priority_sum += ord(err_item) - 96\n",
    "    \n",
    "\n",
    "print(priority_sum)"
   ]
  },
  {
   "cell_type": "code",
   "execution_count": 33,
   "metadata": {},
   "outputs": [
    {
     "name": "stdout",
     "output_type": "stream",
     "text": [
      "2548\n"
     ]
    }
   ],
   "source": [
    "def chunker(seq, size):\n",
    "    return (seq[pos:pos + size] for pos in range(0, len(seq), size))\n",
    "\n",
    "priority_sum = 0\n",
    "\n",
    "for group in chunker(q_input, 3):\n",
    "    bag1, bag2, bag3 = group\n",
    "    badge = list(set(bag1)&set(bag2)&set(bag3))[0]\n",
    "    if badge.isupper():\n",
    "        priority_sum += ord(badge) - 38\n",
    "    elif badge.islower():\n",
    "        priority_sum += ord(badge) - 96\n",
    "    \n",
    "\n",
    "print(priority_sum)"
   ]
  }
 ],
 "metadata": {
  "kernelspec": {
   "display_name": "Python 3.9.5 64-bit",
   "language": "python",
   "name": "python3"
  },
  "language_info": {
   "codemirror_mode": {
    "name": "ipython",
    "version": 3
   },
   "file_extension": ".py",
   "mimetype": "text/x-python",
   "name": "python",
   "nbconvert_exporter": "python",
   "pygments_lexer": "ipython3",
   "version": "3.9.5"
  },
  "orig_nbformat": 4,
  "vscode": {
   "interpreter": {
    "hash": "5790115e099f1e89db1d8e41205cd652b887ead311308f4792fb95232825540e"
   }
  }
 },
 "nbformat": 4,
 "nbformat_minor": 2
}
