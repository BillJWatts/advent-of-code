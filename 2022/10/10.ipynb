{
 "cells": [
  {
   "cell_type": "code",
   "execution_count": 130,
   "metadata": {},
   "outputs": [],
   "source": [
    "with open(\"10.txt\") as i:\n",
    "    q_input = i.read().splitlines()"
   ]
  },
  {
   "cell_type": "code",
   "execution_count": 136,
   "metadata": {},
   "outputs": [
    {
     "name": "stdout",
     "output_type": "stream",
     "text": [
      "Part 1: 12640\n"
     ]
    }
   ],
   "source": [
    "from types import SimpleNamespace\n",
    "from copy import copy\n",
    "# addx V    : Takes two cycles, then adds V to the register\n",
    "# noop      : Takes one cycle.\n",
    "# cycles    : 20, 60, 100, 140, 180, 220\n",
    "\n",
    "ADD = \"addx\"\n",
    "NOOP = \"noop\"\n",
    "REGISTER = 1\n",
    "register_history = []\n",
    "signal_strengths = []\n",
    "instructions = copy(q_input)\n",
    "\n",
    "def parse_instruction(inst):\n",
    "    inst = inst.split()\n",
    "    command = inst[0]\n",
    "    if command == ADD:\n",
    "        return SimpleNamespace(command=command, value=int(inst[1]))\n",
    "    else: return SimpleNamespace(command=command, value=0)\n",
    "\n",
    "cycle = 1\n",
    "instruction_buffer = None\n",
    "while True:\n",
    "    if not instructions and not instruction_buffer:\n",
    "        break\n",
    "\n",
    "    if cycle in [20, 600, 100, 140, 180, 220]:\n",
    "        signal = REGISTER * cycle\n",
    "        signal_strengths.append(signal)\n",
    "\n",
    "    # Instruction buffer holds the command of the last cycle\n",
    "    if instruction_buffer:\n",
    "        # Important to record the register before executing the buffer!\n",
    "        register_history.append(REGISTER)\n",
    "        REGISTER += instruction.value\n",
    "        instruction_buffer = None\n",
    "        cycle += 1\n",
    "        continue\n",
    "\n",
    "    instruction = parse_instruction(instructions.pop(0))\n",
    "    if instruction.command == ADD:\n",
    "        instruction_buffer = instruction\n",
    "        register_history.append(REGISTER)\n",
    "    else:\n",
    "        instruction_buffer = None\n",
    "        register_history.append(REGISTER)\n",
    "    cycle += 1\n",
    "\n",
    "print(f\"Part 1: {sum(signal_strengths)}\")\n"
   ]
  },
  {
   "cell_type": "code",
   "execution_count": 137,
   "metadata": {},
   "outputs": [
    {
     "name": "stdout",
     "output_type": "stream",
     "text": [
      "Part two:\n",
      "#### #  # ###  #### #    ###    ## ###  \n",
      "#    #  # #  #    # #    #  #    # #  # \n",
      "###  #### ###    #  #    #  #    # #  # \n",
      "#    #  # #  #  #   #    ###     # ###  \n",
      "#    #  # #  # #    #    # #  #  # # #  \n",
      "#### #  # ###  #### #### #  #  ##  #  # \n"
     ]
    }
   ],
   "source": [
    "sprite_positions = []\n",
    "\n",
    "# Create list of sprite positions from the register history\n",
    "for i, x in enumerate(register_history):\n",
    "    sprite_positions.append([x-1,x,x+1])\n",
    "\n",
    "screen = []\n",
    "current_row = \"\"\n",
    "index_offset = 0\n",
    "for i, sprite_pos in enumerate(sprite_positions):\n",
    "    # Index offset loops i betweeen 0-39\n",
    "    i -= index_offset\n",
    "\n",
    "    # Draw the pixel\n",
    "    if i in sprite_pos:\n",
    "        current_row += \"#\"\n",
    "    else:\n",
    "        current_row += \" \"\n",
    "\n",
    "    # If i is divisible by 40, add 40 to the offset and start a new line\n",
    "    if i and (i+1)%40 == 0:\n",
    "        index_offset += 40\n",
    "        screen.append(current_row)\n",
    "        current_row = \"\"\n",
    "\n",
    "print(\"Part two:\")\n",
    "for row in screen:\n",
    "    print(row)"
   ]
  }
 ],
 "metadata": {
  "kernelspec": {
   "display_name": "Python 3.9.5 64-bit",
   "language": "python",
   "name": "python3"
  },
  "language_info": {
   "codemirror_mode": {
    "name": "ipython",
    "version": 3
   },
   "file_extension": ".py",
   "mimetype": "text/x-python",
   "name": "python",
   "nbconvert_exporter": "python",
   "pygments_lexer": "ipython3",
   "version": "3.9.5"
  },
  "orig_nbformat": 4,
  "vscode": {
   "interpreter": {
    "hash": "5790115e099f1e89db1d8e41205cd652b887ead311308f4792fb95232825540e"
   }
  }
 },
 "nbformat": 4,
 "nbformat_minor": 2
}
