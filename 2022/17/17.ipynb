{
 "cells": [
  {
   "cell_type": "code",
   "execution_count": 115,
   "metadata": {},
   "outputs": [],
   "source": [
    "with open(\"17.txt\") as i:\n",
    "    q_input = i.read().splitlines()"
   ]
  },
  {
   "cell_type": "code",
   "execution_count": 109,
   "metadata": {},
   "outputs": [],
   "source": [
    "from dataclasses import dataclass\n",
    "from copy import deepcopy\n",
    "import itertools\n",
    "\n",
    "@dataclass\n",
    "class Coord:\n",
    "    x: int\n",
    "    y: int\n",
    "    def __add__(self, other):\n",
    "        return Coord(self.x + other.x, self.y + other.y)\n",
    "    def __sub__(self, other):\n",
    "        return Coord(self.x - other.x, self.y - other.y)\n",
    "    def __hash__(self):\n",
    "        return hash((self.x, self.y))\n",
    "    \n",
    "class Rock:\n",
    "\n",
    "    def __init__(self, name, coords):\n",
    "        self.name = name\n",
    "        self.coords = [Coord(x,y) for x,y in coords]\n",
    "        self.old_coords = []\n",
    "\n",
    "    @property\n",
    "    def x_values(self):\n",
    "        return [coord.x for coord in self.coords]\n",
    "\n",
    "    @property\n",
    "    def y_values(self):\n",
    "        return [coord.y for coord in self.coords]\n",
    "    \n",
    "    def transform(self,vector):\n",
    "        self.old_coords = self.coords\n",
    "        self.coords = [coord+vector for coord in self.coords]\n",
    "    \n",
    "    def revert(self):\n",
    "        self.coords = self.old_coords\n",
    "    \n",
    "    def __repr__(self):\n",
    "        return f\"Rock({self.name})\"\n",
    "\n",
    "def rock_list():\n",
    "    ROCKS = [\n",
    "        Rock(name=\"-\", coords=[(0,0),(1,0),(2,0),(3,0)])   ,       # flat-v\n",
    "        Rock(name=\"+\", coords=[(1,0),(0,1),(1,1),(2,1),(1,2)]),    # cross\n",
    "        Rock(name=\"⅃\", coords=[(0,0),(1,0),(2,0),(2,1),(2,2)]),    # backward-L\n",
    "        Rock(name=\"|\", coords=[(0,0),(0,1),(0,2),(0,3)])  ,        # flat-h\n",
    "        Rock(name=\"◻\", coords=[(0,0),(1,0),(0,1),(1,1)])  ,  # square\n",
    "    ]\n",
    "    for i in itertools.cycle(range(5)):\n",
    "        yield deepcopy(ROCKS[i])\n",
    "\n",
    "def jet_list():\n",
    "    transforms = {\"<\":Coord(-1,0), \">\":Coord(1,0)}\n",
    "    jet_strings = iter(q_input[0])\n",
    "    for jet in itertools.cycle(jet_strings):\n",
    "        yield transforms[jet]"
   ]
  },
  {
   "cell_type": "code",
   "execution_count": 120,
   "metadata": {},
   "outputs": [
    {
     "name": "stdout",
     "output_type": "stream",
     "text": [
      "Part 1: 3144\n"
     ]
    }
   ],
   "source": [
    "def get_rock_height(number_of_rocks):\n",
    "    settled_rocks = set([Coord(x,0) for x in range(9)])\n",
    "    LEFT_WALL = 0\n",
    "    RIGHT_WALL = 8\n",
    "    DOWN = Coord(0,-1)\n",
    "\n",
    "    jet_gen = jet_list()\n",
    "    floor = 0\n",
    "    for i, rock in enumerate(rock_list(),1):\n",
    "        if i == number_of_rocks +1:\n",
    "            break\n",
    "\n",
    "        #print(f\"Rock {i}: {rock}\")\n",
    "        settled = False\n",
    "        rock.transform(Coord(LEFT_WALL+3, floor+4))\n",
    "\n",
    "        while not settled:\n",
    "            # JET PUSH\n",
    "            rock.transform(next(jet_gen))\n",
    "            if (\n",
    "                LEFT_WALL in rock.x_values or \n",
    "                RIGHT_WALL in rock.x_values or\n",
    "                set(rock.coords).intersection(settled_rocks)\n",
    "            ):\n",
    "                rock.revert()\n",
    "            \n",
    "            # ROCK FALL\n",
    "            rock.transform(DOWN)\n",
    "            if not set(rock.coords).intersection(settled_rocks):\n",
    "                continue\n",
    "            \n",
    "            rock.revert()\n",
    "            #print(rock.coords)\n",
    "            settled_rocks.update(rock.coords)\n",
    "            rock_top = max(rock.y_values)\n",
    "            if rock_top > floor:\n",
    "                floor = rock_top\n",
    "            settled = True\n",
    "    return max([coord.y for coord in settled_rocks])\n",
    "\n",
    "\n",
    "print(\"Part 1:\", get_rock_height(2022))"
   ]
  },
  {
   "attachments": {},
   "cell_type": "markdown",
   "metadata": {},
   "source": [
    "## Honestly a trillion rocks?! Stupid elephants"
   ]
  },
  {
   "cell_type": "code",
   "execution_count": 121,
   "metadata": {},
   "outputs": [
    {
     "ename": "KeyboardInterrupt",
     "evalue": "",
     "output_type": "error",
     "traceback": [
      "\u001b[1;31m---------------------------------------------------------------------------\u001b[0m",
      "\u001b[1;31mKeyboardInterrupt\u001b[0m                         Traceback (most recent call last)",
      "\u001b[1;32m~\\AppData\\Local\\Temp/ipykernel_17532/676730552.py\u001b[0m in \u001b[0;36m<module>\u001b[1;34m\u001b[0m\n\u001b[1;32m----> 1\u001b[1;33m \u001b[0mprint\u001b[0m\u001b[1;33m(\u001b[0m\u001b[1;34m\"Part 2:\"\u001b[0m\u001b[1;33m,\u001b[0m \u001b[0mget_rock_height\u001b[0m\u001b[1;33m(\u001b[0m\u001b[1;36m1000000000000\u001b[0m\u001b[1;33m)\u001b[0m\u001b[1;33m)\u001b[0m\u001b[1;33m\u001b[0m\u001b[1;33m\u001b[0m\u001b[0m\n\u001b[0m",
      "\u001b[1;32m~\\AppData\\Local\\Temp/ipykernel_17532/1387800157.py\u001b[0m in \u001b[0;36mget_rock_height\u001b[1;34m(number_of_rocks)\u001b[0m\n\u001b[0;32m     33\u001b[0m             \u001b[1;31m#print(rock.coords)\u001b[0m\u001b[1;33m\u001b[0m\u001b[1;33m\u001b[0m\u001b[1;33m\u001b[0m\u001b[0m\n\u001b[0;32m     34\u001b[0m             \u001b[0msettled_rocks\u001b[0m\u001b[1;33m.\u001b[0m\u001b[0mupdate\u001b[0m\u001b[1;33m(\u001b[0m\u001b[0mrock\u001b[0m\u001b[1;33m.\u001b[0m\u001b[0mcoords\u001b[0m\u001b[1;33m)\u001b[0m\u001b[1;33m\u001b[0m\u001b[1;33m\u001b[0m\u001b[0m\n\u001b[1;32m---> 35\u001b[1;33m             \u001b[0mrock_top\u001b[0m \u001b[1;33m=\u001b[0m \u001b[0mmax\u001b[0m\u001b[1;33m(\u001b[0m\u001b[0mrock\u001b[0m\u001b[1;33m.\u001b[0m\u001b[0my_values\u001b[0m\u001b[1;33m)\u001b[0m\u001b[1;33m\u001b[0m\u001b[1;33m\u001b[0m\u001b[0m\n\u001b[0m\u001b[0;32m     36\u001b[0m             \u001b[1;32mif\u001b[0m \u001b[0mrock_top\u001b[0m \u001b[1;33m>\u001b[0m \u001b[0mfloor\u001b[0m\u001b[1;33m:\u001b[0m\u001b[1;33m\u001b[0m\u001b[1;33m\u001b[0m\u001b[0m\n\u001b[0;32m     37\u001b[0m                 \u001b[0mfloor\u001b[0m \u001b[1;33m=\u001b[0m \u001b[0mrock_top\u001b[0m\u001b[1;33m\u001b[0m\u001b[1;33m\u001b[0m\u001b[0m\n",
      "\u001b[1;32m~\\AppData\\Local\\Temp/ipykernel_17532/653917702.py\u001b[0m in \u001b[0;36my_values\u001b[1;34m(self)\u001b[0m\n\u001b[0;32m     27\u001b[0m     \u001b[1;33m@\u001b[0m\u001b[0mproperty\u001b[0m\u001b[1;33m\u001b[0m\u001b[1;33m\u001b[0m\u001b[0m\n\u001b[0;32m     28\u001b[0m     \u001b[1;32mdef\u001b[0m \u001b[0my_values\u001b[0m\u001b[1;33m(\u001b[0m\u001b[0mself\u001b[0m\u001b[1;33m)\u001b[0m\u001b[1;33m:\u001b[0m\u001b[1;33m\u001b[0m\u001b[1;33m\u001b[0m\u001b[0m\n\u001b[1;32m---> 29\u001b[1;33m         \u001b[1;32mreturn\u001b[0m \u001b[1;33m[\u001b[0m\u001b[0mcoord\u001b[0m\u001b[1;33m.\u001b[0m\u001b[0my\u001b[0m \u001b[1;32mfor\u001b[0m \u001b[0mcoord\u001b[0m \u001b[1;32min\u001b[0m \u001b[0mself\u001b[0m\u001b[1;33m.\u001b[0m\u001b[0mcoords\u001b[0m\u001b[1;33m]\u001b[0m\u001b[1;33m\u001b[0m\u001b[1;33m\u001b[0m\u001b[0m\n\u001b[0m\u001b[0;32m     30\u001b[0m \u001b[1;33m\u001b[0m\u001b[0m\n\u001b[0;32m     31\u001b[0m     \u001b[1;32mdef\u001b[0m \u001b[0mtransform\u001b[0m\u001b[1;33m(\u001b[0m\u001b[0mself\u001b[0m\u001b[1;33m,\u001b[0m\u001b[0mvector\u001b[0m\u001b[1;33m)\u001b[0m\u001b[1;33m:\u001b[0m\u001b[1;33m\u001b[0m\u001b[1;33m\u001b[0m\u001b[0m\n",
      "\u001b[1;32m~\\AppData\\Local\\Temp/ipykernel_17532/653917702.py\u001b[0m in \u001b[0;36m<listcomp>\u001b[1;34m(.0)\u001b[0m\n\u001b[0;32m     27\u001b[0m     \u001b[1;33m@\u001b[0m\u001b[0mproperty\u001b[0m\u001b[1;33m\u001b[0m\u001b[1;33m\u001b[0m\u001b[0m\n\u001b[0;32m     28\u001b[0m     \u001b[1;32mdef\u001b[0m \u001b[0my_values\u001b[0m\u001b[1;33m(\u001b[0m\u001b[0mself\u001b[0m\u001b[1;33m)\u001b[0m\u001b[1;33m:\u001b[0m\u001b[1;33m\u001b[0m\u001b[1;33m\u001b[0m\u001b[0m\n\u001b[1;32m---> 29\u001b[1;33m         \u001b[1;32mreturn\u001b[0m \u001b[1;33m[\u001b[0m\u001b[0mcoord\u001b[0m\u001b[1;33m.\u001b[0m\u001b[0my\u001b[0m \u001b[1;32mfor\u001b[0m \u001b[0mcoord\u001b[0m \u001b[1;32min\u001b[0m \u001b[0mself\u001b[0m\u001b[1;33m.\u001b[0m\u001b[0mcoords\u001b[0m\u001b[1;33m]\u001b[0m\u001b[1;33m\u001b[0m\u001b[1;33m\u001b[0m\u001b[0m\n\u001b[0m\u001b[0;32m     30\u001b[0m \u001b[1;33m\u001b[0m\u001b[0m\n\u001b[0;32m     31\u001b[0m     \u001b[1;32mdef\u001b[0m \u001b[0mtransform\u001b[0m\u001b[1;33m(\u001b[0m\u001b[0mself\u001b[0m\u001b[1;33m,\u001b[0m\u001b[0mvector\u001b[0m\u001b[1;33m)\u001b[0m\u001b[1;33m:\u001b[0m\u001b[1;33m\u001b[0m\u001b[1;33m\u001b[0m\u001b[0m\n",
      "\u001b[1;31mKeyboardInterrupt\u001b[0m: "
     ]
    }
   ],
   "source": [
    "print(\"Part 2:\", get_rock_height(1000000000000))"
   ]
  }
 ],
 "metadata": {
  "kernelspec": {
   "display_name": "Python 3.9.5 64-bit",
   "language": "python",
   "name": "python3"
  },
  "language_info": {
   "codemirror_mode": {
    "name": "ipython",
    "version": 3
   },
   "file_extension": ".py",
   "mimetype": "text/x-python",
   "name": "python",
   "nbconvert_exporter": "python",
   "pygments_lexer": "ipython3",
   "version": "3.9.5"
  },
  "orig_nbformat": 4,
  "vscode": {
   "interpreter": {
    "hash": "5790115e099f1e89db1d8e41205cd652b887ead311308f4792fb95232825540e"
   }
  }
 },
 "nbformat": 4,
 "nbformat_minor": 2
}
