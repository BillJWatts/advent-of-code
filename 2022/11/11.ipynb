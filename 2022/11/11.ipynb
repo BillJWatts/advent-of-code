{
 "cells": [
  {
   "cell_type": "code",
   "execution_count": 265,
   "metadata": {},
   "outputs": [],
   "source": [
    "with open(\"11.txt\") as i:\n",
    "    q_input = i.read().splitlines()\n",
    "\n",
    "import operator\n",
    "ops = {\"+\": operator.add, \"*\": operator.mul, \"**\": operator.pow}\n",
    "MONKEYS = []\n",
    "LCD = 1\n",
    "\n",
    "def print_monkeys():\n",
    "    for monkey in MONKEYS:\n",
    "        print(monkey)\n",
    "\n",
    "\n",
    "class Monkey:\n",
    "    items: list\n",
    "    operator: str\n",
    "    value: int\n",
    "    divider: int\n",
    "    targets: tuple\n",
    "    inspect_count: int = 0\n",
    "    def __init__(self, _id):\n",
    "        self.id = _id\n",
    "        self.targets = [None,None]\n",
    "    \n",
    "    def inspect_items(self, chillout):\n",
    "        for _ in range(len(self.items)):\n",
    "            item = self.items.pop(0)\n",
    "            item = self._worry(item)\n",
    "            if chillout:\n",
    "                item //= 3\n",
    "            if item > LCD:\n",
    "                item -= (item//LCD)*LCD\n",
    "            self._throw_item(item)\n",
    "            self.inspect_count += 1\n",
    "\n",
    "    def _worry(self, item):\n",
    "        return int(ops[self.operator](item, self.value))\n",
    "\n",
    "    def _throw_item(self, item):\n",
    "        target = self.targets[item%self.divider == 0]\n",
    "        target_monkey = [monkey for monkey in MONKEYS if monkey.id == target][0]\n",
    "        target_monkey.items.append(item)\n",
    "\n",
    "    def __str__(self):\n",
    "        return f\"Monkey(id={self.id}, items={self.items})\"\n",
    "    def __repr__(self):\n",
    "        return f\"Monkey(id={self.id}, items={self.items})\"\n",
    "\n",
    "current_monkey = None\n",
    "for line in q_input:\n",
    "    if not line:\n",
    "        MONKEYS.append(current_monkey)\n",
    "        current_monkey = None\n",
    "        continue\n",
    "    if \"Monkey\" in line:\n",
    "        current_monkey = Monkey(int(line[-2]))\n",
    "    elif \"items\" in line:\n",
    "        current_monkey.items = [int(num) for num in line.split(\": \")[-1].split(\", \")]\n",
    "    elif \"Operation\" in line:\n",
    "        operator, value = line.split(\"= old \")[-1].split()\n",
    "        if value == \"old\":\n",
    "            current_monkey.operator = \"**\"\n",
    "            current_monkey.value = 2\n",
    "        else:\n",
    "            current_monkey.operator = operator\n",
    "            current_monkey.value = int(value)\n",
    "    elif \"Test\" in line:\n",
    "        current_monkey.divider = int(line.split(\"by \")[-1])\n",
    "    elif \"true\" in line:\n",
    "        current_monkey.targets[True] = int(line.split(\"monkey \")[-1])\n",
    "    elif \"false\" in line:\n",
    "        current_monkey.targets[False] = int(line.split(\"monkey \")[-1])\n",
    "MONKEYS.append(current_monkey)\n",
    "\n",
    "dividers = [monkey.divider for monkey in MONKEYS]\n",
    "for divider in dividers:\n",
    "    LCD *= divider"
   ]
  },
  {
   "cell_type": "code",
   "execution_count": 264,
   "metadata": {},
   "outputs": [
    {
     "name": "stdout",
     "output_type": "stream",
     "text": [
      "Part 1: 57348\n"
     ]
    }
   ],
   "source": [
    "for i in range(20):\n",
    "    for monkey in MONKEYS:\n",
    "        monkey.inspect_items(chillout=True)\n",
    "\n",
    "counts = [monkey.inspect_count for monkey in MONKEYS]\n",
    "counts.sort()\n",
    "print(f\"Part 1: {counts[-2] * counts[-1]}\")"
   ]
  },
  {
   "cell_type": "code",
   "execution_count": 266,
   "metadata": {},
   "outputs": [
    {
     "name": "stdout",
     "output_type": "stream",
     "text": [
      "Part 1: 14106266886\n"
     ]
    }
   ],
   "source": [
    "for i in range(10000):\n",
    "    for monkey in MONKEYS:\n",
    "        monkey.inspect_items(chillout=False)\n",
    "\n",
    "counts = [monkey.inspect_count for monkey in MONKEYS]\n",
    "counts.sort()\n",
    "print(f\"Part 1: {counts[-2] * counts[-1]}\")"
   ]
  }
 ],
 "metadata": {
  "kernelspec": {
   "display_name": "Python 3.9.5 64-bit",
   "language": "python",
   "name": "python3"
  },
  "language_info": {
   "codemirror_mode": {
    "name": "ipython",
    "version": 3
   },
   "file_extension": ".py",
   "mimetype": "text/x-python",
   "name": "python",
   "nbconvert_exporter": "python",
   "pygments_lexer": "ipython3",
   "version": "3.9.5"
  },
  "orig_nbformat": 4,
  "vscode": {
   "interpreter": {
    "hash": "5790115e099f1e89db1d8e41205cd652b887ead311308f4792fb95232825540e"
   }
  }
 },
 "nbformat": 4,
 "nbformat_minor": 2
}
